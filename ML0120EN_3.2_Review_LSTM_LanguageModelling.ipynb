{
  "nbformat": 4,
  "nbformat_minor": 0,
  "metadata": {
    "anaconda-cloud": {},
    "kernelspec": {
      "display_name": "Python 3",
      "language": "python",
      "name": "python3"
    },
    "language_info": {
      "codemirror_mode": {
        "name": "ipython",
        "version": 3
      },
      "file_extension": ".py",
      "mimetype": "text/x-python",
      "name": "python",
      "nbconvert_exporter": "python",
      "pygments_lexer": "ipython3",
      "version": "3.6.5"
    },
    "colab": {
      "name": "ML0120EN-3.2-Review-LSTM-LanguageModelling.ipynb",
      "provenance": [],
      "collapsed_sections": []
    }
  },
  "cells": [
    {
      "cell_type": "markdown",
      "metadata": {
        "id": "LRQqXkjjTlvB",
        "colab_type": "text"
      },
      "source": [
        "<a href=\"https://www.bigdatauniversity.com\"><img src=\"https://ibm.box.com/shared/static/qo20b88v1hbjztubt06609ovs85q8fau.png\" width=\"400px\" align=\"center\"></a>\n",
        "\n",
        "<h1 align=\"center\"><font size=\"5\">RECURRENT NETWORKS and LSTM IN DEEP LEARNING</font></h1>"
      ]
    },
    {
      "cell_type": "markdown",
      "metadata": {
        "id": "ENJXUMVDTlvD",
        "colab_type": "text"
      },
      "source": [
        "<h2>Applying Recurrent Neural Networks/LSTM for Language Modeling</h2>\n",
        "Hello and welcome to this part. In this notebook, we will go over the topic of Language Modelling, and create a Recurrent Neural Network model based on the Long Short-Term Memory unit to train and benchmark on the Penn Treebank dataset. By the end of this notebook, you should be able to understand how TensorFlow builds and executes a RNN model for Language Modelling."
      ]
    },
    {
      "cell_type": "markdown",
      "metadata": {
        "id": "K0Qp475iTlvE",
        "colab_type": "text"
      },
      "source": [
        "<h2>The Objective</h2>\n",
        "By now, you should have an understanding of how Recurrent Networks work -- a specialized model to process sequential data by keeping track of the \"state\" or context. In this notebook, we go over a TensorFlow code snippet for creating a model focused on <b>Language Modelling</b> -- a very relevant task that is the cornerstone of many different linguistic problems such as <b>Speech Recognition, Machine Translation and Image Captioning</b>. For this, we will be using the Penn Treebank dataset, which is an often-used dataset for benchmarking Language Modelling models."
      ]
    },
    {
      "cell_type": "markdown",
      "metadata": {
        "id": "0B3bHM5kTlvF",
        "colab_type": "text"
      },
      "source": [
        "\n",
        "<h2>Table of Contents</h2>\n",
        "<ol>\n",
        "    <li><a href=\"#language_modelling\">What exactly is Language Modelling?</a></li>\n",
        "    <li><a href=\"#treebank_dataset\">The Penn Treebank dataset</a></li>\n",
        "    <li><a href=\"#word_embedding\">Work Embedding</a></li>\n",
        "    <li><a href=\"#building_lstm_model\">Building the LSTM model for Language Modeling</a></li>\n",
        "    <li><a href=\"#ltsm\">LTSM</a></li>\n",
        "</ol>\n",
        "<p></p>\n",
        "</div>\n",
        "<br>"
      ]
    },
    {
      "cell_type": "markdown",
      "metadata": {
        "button": false,
        "deletable": true,
        "new_sheet": false,
        "run_control": {
          "read_only": false
        },
        "id": "oNRY25RRTlvF",
        "colab_type": "text"
      },
      "source": [
        "--------"
      ]
    },
    {
      "cell_type": "markdown",
      "metadata": {
        "button": false,
        "deletable": true,
        "new_sheet": false,
        "run_control": {
          "read_only": false
        },
        "id": "4y6TfADqTlvG",
        "colab_type": "text"
      },
      "source": [
        "<a id=\"language_modelling\"></a>\n",
        "<h2>What exactly is Language Modelling?</h2>\n",
        "Language Modelling, to put it simply, <b>is the task of assigning probabilities to sequences of words</b>. This means that, given a context of one or a sequence of words in the language the model was trained on, the model should provide the next most probable words or sequence of words that follows from the given sequence of words the sentence. Language Modelling is one of the most important tasks in Natural Language Processing.\n",
        "\n",
        "<img src=\"https://ibm.box.com/shared/static/1d1i5gub6wljby2vani2vzxp0xsph702.png\" width=\"1080\">\n",
        "<center><i>Example of a sentence being predicted</i></center>\n",
        "<br><br>\n",
        "In this example, one can see the predictions for the next word of a sentence, given the context \"This is an\". As you can see, this boils down to a sequential data analysis task -- you are given a word or a sequence of words (the input data), and, given the context (the state), you need to find out what is the next word (the prediction). This kind of analysis is very important for language-related tasks such as <b>Speech Recognition, Machine Translation, Image Captioning, Text Correction</b> and many other very relevant problems. \n",
        "\n",
        "<img src=\"https://ibm.box.com/shared/static/az39idf9ipfdpc5ugifpgxnydelhyf3i.png\" width=\"1080\">\n",
        "<center><i>The above example is a schema of an RNN in execution</i></center>\n",
        "<br><br>\n",
        "As the above image shows, Recurrent Network models fit this problem like a glove. Alongside LSTM and its capacity to maintain the model's state for over one thousand time steps, we have all the tools we need to undertake this problem. The goal for this notebook is to create a model that can reach <b>low levels of perplexity</b> on our desired dataset.\n",
        "\n",
        "For Language Modelling problems, <b>perplexity</b> is the way to gauge efficiency. Perplexity is simply a measure of how well a probabilistic model is able to predict its sample. A higher-level way to explain this would be saying that <b>low perplexity means a higher degree of trust in the predictions the model makes</b>. Therefore, the lower perplexity is, the better."
      ]
    },
    {
      "cell_type": "markdown",
      "metadata": {
        "id": "A8_YIjNwTlvH",
        "colab_type": "text"
      },
      "source": [
        "<a id=\"treebank_dataset\"></a>\n",
        "<h2>The Penn Treebank dataset</h2>\n",
        "Historically, datasets big enough for Natural Language Processing are hard to come by. This is in part due to the necessity of the sentences to be broken down and tagged with a certain degree of correctness -- or else the models trained on it won't be able to be correct at all. This means that we need a <b>large amount of data, annotated by or at least corrected by humans</b>. This is, of course, not an easy task at all.\n",
        "\n",
        "The Penn Treebank, or PTB for short, is a dataset maintained by the University of Pennsylvania. It is <i>huge</i> -- there are over <b>four million and eight hundred thousand</b> annotated words in it, all corrected by humans. It is composed of many different sources, from abstracts of Department of Energy papers to texts from the Library of America. Since it is verifiably correct and of such a huge size, the Penn Treebank is commonly used as a benchmark dataset for Language Modelling.\n",
        "\n",
        "The dataset is divided in different kinds of annotations, such as Piece-of-Speech, Syntactic and Semantic skeletons. For this example, we will simply use a sample of clean, non-annotated words (with the exception of one tag --<code>&lt;unk&gt;</code>\n",
        ", which is used for rare words such as uncommon proper nouns) for our model. This means that we just want to predict what the next words would be, not what they mean in context or their classes on a given sentence.\n",
        "\n",
        "<center>Example of text from the dataset we are going to use, <b>ptb.train</b></center>\n",
        "<br><br>\n",
        "\n",
        "<div class=\"alert alert-block alert-info\" style=\"margin-top: 20px\">\n",
        "    <center>the percentage of lung cancer deaths among the workers at the west <code>&lt;unk&gt;</code> mass. paper factory appears to be the highest for any asbestos workers studied in western industrialized countries he said \n",
        " the plant which is owned by <code>&lt;unk&gt;</code> & <code>&lt;unk&gt;</code> co. was under contract with <code>&lt;unk&gt;</code> to make the cigarette filters \n",
        " the finding probably will support those who argue that the U.S. should regulate the class of asbestos including <code>&lt;unk&gt;</code> more <code>&lt;unk&gt;</code> than the common kind of asbestos <code>&lt;unk&gt;</code> found in most schools and other buildings dr. <code>&lt;unk&gt;</code> said</center>\n",
        "</div>"
      ]
    },
    {
      "cell_type": "markdown",
      "metadata": {
        "button": false,
        "deletable": true,
        "new_sheet": false,
        "run_control": {
          "read_only": false
        },
        "id": "6qeltwLbTlvH",
        "colab_type": "text"
      },
      "source": [
        "<a id=\"word_embedding\"></a>\n",
        "<h2>Word Embeddings</h2><br/>\n",
        "\n",
        "For better processing, in this example, we will make use of <a href=\"https://www.tensorflow.org/tutorials/word2vec/\"><b>word embeddings</b></a>, which is <b>a way of representing sentence structures or words as n-dimensional vectors (where n is a reasonably high number, such as 200 or 500) of real numbers</b>. Basically, we will assign each word a randomly-initialized vector, and input those into the network to be processed. After a number of iterations, these vectors are expected to assume values that help the network to correctly predict what it needs to -- in our case, the probable next word in the sentence. This is shown to be a very effective task in Natural Language Processing, and is a commonplace practice.\n",
        "<br><br>\n",
        "<font size=\"4\"><strong>\n",
        "$$Vec(\"Example\") = [0.02, 0.00, 0.00, 0.92, 0.30, \\ldots]$$\n",
        "</strong></font>\n",
        "<br>\n",
        "Word Embedding tends to group up similarly used words <i>reasonably</i> close together in the vectorial space. For example, if we use T-SNE (a dimensional reduction visualization algorithm) to flatten the dimensions of our vectors into a 2-dimensional space and plot these words in a 2-dimensional space, we might see something like this:\n",
        "\n",
        "<img src=\"https://ibm.box.com/shared/static/bqhc5dg879gcoabzhxra1w8rkg3od1cu.png\" width=\"800\">\n",
        "<center><i>T-SNE Mockup with clusters marked for easier visualization</i></center>\n",
        "<br><br>\n",
        "As you can see, words that are frequently used together, in place of each other, or in the same places as them tend to be grouped together -- being closer together the higher they are correlated. For example, \"None\" is pretty semantically close to \"Zero\", while a phrase that uses \"Italy\", you could probably also fit \"Germany\" in it, with little damage to the sentence structure. The vectorial \"closeness\" for similar words like this is a great indicator of a well-built model.\n",
        "\n",
        "<hr>\n",
        " "
      ]
    },
    {
      "cell_type": "markdown",
      "metadata": {
        "button": false,
        "deletable": true,
        "new_sheet": false,
        "run_control": {
          "read_only": false
        },
        "id": "6AbosqedTlvI",
        "colab_type": "text"
      },
      "source": [
        "We need to import the necessary modules for our code. We need <b><code>numpy</code></b> and <b><code>tensorflow</code></b>, obviously. Additionally, we can import directly the <b><code>tensorflow.models.rnn</code></b> model, which includes the function for building RNNs, and <b><code>tensorflow.models.rnn.ptb.reader</code></b> which is the helper module for getting the input data from the dataset we just downloaded.\n",
        "\n",
        "If you want to learn more take a look at https://github.com/tensorflow/models/blob/master/tutorials/rnn/ptb/reader.py"
      ]
    },
    {
      "cell_type": "code",
      "metadata": {
        "id": "p4O-OqbkV7TJ",
        "colab_type": "code",
        "colab": {
          "base_uri": "https://localhost:8080/",
          "height": 51
        },
        "outputId": "0e26d1a1-7ede-4920-ed3c-2660a1b63091"
      },
      "source": [
        "%tensorflow_version 1.x\n",
        "import tensorflow as tf\n",
        "tf.__version__"
      ],
      "execution_count": 1,
      "outputs": [
        {
          "output_type": "stream",
          "text": [
            "TensorFlow 1.x selected.\n"
          ],
          "name": "stdout"
        },
        {
          "output_type": "execute_result",
          "data": {
            "text/plain": [
              "'1.15.2'"
            ]
          },
          "metadata": {
            "tags": []
          },
          "execution_count": 1
        }
      ]
    },
    {
      "cell_type": "code",
      "metadata": {
        "button": false,
        "deletable": true,
        "new_sheet": false,
        "run_control": {
          "read_only": false
        },
        "id": "VIJ75FbNTlvJ",
        "colab_type": "code",
        "colab": {}
      },
      "source": [
        "import time\n",
        "import numpy as np\n",
        "import tensorflow as tf"
      ],
      "execution_count": 2,
      "outputs": []
    },
    {
      "cell_type": "code",
      "metadata": {
        "button": false,
        "deletable": true,
        "new_sheet": false,
        "run_control": {
          "read_only": false
        },
        "id": "BbdB2TPgTlvO",
        "colab_type": "code",
        "colab": {
          "base_uri": "https://localhost:8080/",
          "height": 136
        },
        "outputId": "dd1e0cfb-fb0d-43df-feaa-88fa5f640d4a"
      },
      "source": [
        "!mkdir data\n",
        "!wget -q -O data/ptb.zip https://ibm.box.com/shared/static/z2yvmhbskc45xd2a9a4kkn6hg4g4kj5r.zip\n",
        "!unzip -o data/ptb.zip -d data\n",
        "!cp data/ptb/reader.py .\n",
        "\n",
        "import reader"
      ],
      "execution_count": 3,
      "outputs": [
        {
          "output_type": "stream",
          "text": [
            "Archive:  data/ptb.zip\n",
            "   creating: data/ptb/\n",
            "  inflating: data/ptb/reader.py      \n",
            "   creating: data/__MACOSX/\n",
            "   creating: data/__MACOSX/ptb/\n",
            "  inflating: data/__MACOSX/ptb/._reader.py  \n",
            "  inflating: data/__MACOSX/._ptb     \n"
          ],
          "name": "stdout"
        }
      ]
    },
    {
      "cell_type": "markdown",
      "metadata": {
        "button": false,
        "deletable": true,
        "new_sheet": false,
        "run_control": {
          "read_only": false
        },
        "id": "Y8h2VrU0TlvR",
        "colab_type": "text"
      },
      "source": [
        "<a id=\"building_lstm_model\"></a>\n",
        "<h2>Building the LSTM model for Language Modeling</h2>\n",
        "Now that we know exactly what we are doing, we can start building our model using TensorFlow. The very first thing we need to do is download and extract the <code>simple-examples</code> dataset, which can be done by executing the code cell below."
      ]
    },
    {
      "cell_type": "code",
      "metadata": {
        "button": false,
        "deletable": true,
        "new_sheet": false,
        "run_control": {
          "read_only": false
        },
        "id": "cWlHrduHTlvS",
        "colab_type": "code",
        "colab": {
          "base_uri": "https://localhost:8080/",
          "height": 204
        },
        "outputId": "284ffeec-e1d0-415c-973b-2990222f25c7"
      },
      "source": [
        "!wget http://www.fit.vutbr.cz/~imikolov/rnnlm/simple-examples.tgz \n",
        "!tar xzf simple-examples.tgz -C data/"
      ],
      "execution_count": 4,
      "outputs": [
        {
          "output_type": "stream",
          "text": [
            "--2020-06-23 22:42:31--  http://www.fit.vutbr.cz/~imikolov/rnnlm/simple-examples.tgz\n",
            "Resolving www.fit.vutbr.cz (www.fit.vutbr.cz)... 147.229.9.23, 2001:67c:1220:809::93e5:917\n",
            "Connecting to www.fit.vutbr.cz (www.fit.vutbr.cz)|147.229.9.23|:80... connected.\n",
            "HTTP request sent, awaiting response... 200 OK\n",
            "Length: 34869662 (33M) [application/x-gtar]\n",
            "Saving to: ‘simple-examples.tgz’\n",
            "\n",
            "simple-examples.tgz 100%[===================>]  33.25M  4.05MB/s    in 10s     \n",
            "\n",
            "2020-06-23 22:42:42 (3.28 MB/s) - ‘simple-examples.tgz’ saved [34869662/34869662]\n",
            "\n"
          ],
          "name": "stdout"
        }
      ]
    },
    {
      "cell_type": "markdown",
      "metadata": {
        "button": false,
        "deletable": true,
        "new_sheet": false,
        "run_control": {
          "read_only": false
        },
        "id": "pX0fE81yTlvX",
        "colab_type": "text"
      },
      "source": [
        "Additionally, for the sake of making it easy to play around with the model's hyperparameters, we can declare them beforehand. Feel free to change these -- you will see a difference in performance each time you change those!  \n"
      ]
    },
    {
      "cell_type": "code",
      "metadata": {
        "button": false,
        "deletable": true,
        "new_sheet": false,
        "run_control": {
          "read_only": false
        },
        "id": "TNkMcScfTlvY",
        "colab_type": "code",
        "colab": {}
      },
      "source": [
        "#Initial weight scale\n",
        "init_scale = 0.1\n",
        "#Initial learning rate\n",
        "learning_rate = 1.0\n",
        "#Maximum permissible norm for the gradient (For gradient clipping -- another measure against Exploding Gradients)\n",
        "max_grad_norm = 5\n",
        "#The number of layers in our model\n",
        "num_layers = 2\n",
        "#The total number of recurrence steps, also known as the number of layers when our RNN is \"unfolded\"\n",
        "num_steps = 20\n",
        "#The number of processing units (neurons) in the hidden layers\n",
        "hidden_size_l1 = 256\n",
        "hidden_size_l2 = 128\n",
        "#The maximum number of epochs trained with the initial learning rate\n",
        "max_epoch_decay_lr = 4\n",
        "#The total number of epochs in training\n",
        "max_epoch = 15\n",
        "#The probability for keeping data in the Dropout Layer (This is an optimization, but is outside our scope for this notebook!)\n",
        "#At 1, we ignore the Dropout Layer wrapping.\n",
        "keep_prob = 1\n",
        "#The decay for the learning rate\n",
        "decay = 0.5\n",
        "#The size for each batch of data\n",
        "batch_size = 60\n",
        "#The size of our vocabulary\n",
        "vocab_size = 10000\n",
        "embeding_vector_size = 200\n",
        "#Training flag to separate training from testing\n",
        "is_training = 1\n",
        "#Data directory for our dataset\n",
        "data_dir = \"data/simple-examples/data/\""
      ],
      "execution_count": 5,
      "outputs": []
    },
    {
      "cell_type": "markdown",
      "metadata": {
        "button": false,
        "deletable": true,
        "new_sheet": false,
        "run_control": {
          "read_only": false
        },
        "id": "XK6dj_BFTlvb",
        "colab_type": "text"
      },
      "source": [
        "Some clarifications for LSTM architecture based on the arguments:\n",
        "\n",
        "Network structure:\n",
        "<ul>\n",
        "    <li>In this network, the number of LSTM cells are 2. To give the model more expressive power, we can add multiple layers of LSTMs to process the data. The output of the first layer will become the input of the second and so on.\n",
        "    </li>\n",
        "    <li>The recurrence steps is 20, that is, when our RNN is \"Unfolded\", the recurrence step is 20.</li>   \n",
        "    <li>the structure is like:\n",
        "        <ul>\n",
        "            <li>200 input units -> [200x200] Weight -> 200 Hidden units (first layer) -> [200x200] Weight matrix  -> 200 Hidden units (second layer) ->  [200] weight Matrix -> 200 unit output</li>\n",
        "        </ul>\n",
        "    </li>\n",
        "</ul>\n",
        "<br>\n",
        "\n",
        "Input layer: \n",
        "<ul>\n",
        "    <li>The network has 200 input units.</li>\n",
        "    <li>Suppose each word is represented by an embedding vector of dimensionality e=200. The input layer of each cell will have 200 linear units. These e=200 linear units are connected to each of the h=200 LSTM units in the hidden layer (assuming there is only one hidden layer, though our case has 2 layers).\n",
        "    </li>\n",
        "    <li>The input shape is [batch_size, num_steps], that is [30x20]. It will turn into [30x20x200] after embedding, and then 20x[30x200]\n",
        "    </li>\n",
        "</ul>\n",
        "<br>\n",
        "\n",
        "Hidden layer:\n",
        "<ul>\n",
        "    <li>Each LSTM has 200 hidden units which is equivalent to the dimensionality of the embedding words and output.</li>\n",
        "</ul>\n",
        "<br>"
      ]
    },
    {
      "cell_type": "markdown",
      "metadata": {
        "button": false,
        "deletable": true,
        "new_sheet": false,
        "run_control": {
          "read_only": false
        },
        "id": "PhdB3rcGTlvc",
        "colab_type": "text"
      },
      "source": [
        "There is a lot to be done and a ton of information to process at the same time, so go over this code slowly. It may seem complex at first, but if you try to apply what you just learned about language modelling to the code you see, you should be able to understand it.\n",
        "\n",
        "This code is adapted from the <a href=\"https://github.com/tensorflow/models\">PTBModel</a> example bundled with the TensorFlow source code.\n",
        "\n",
        "\n",
        "<h4>Train data</h4>\n",
        "The story starts from data:\n",
        "<ul>\n",
        "    <li>Train data is a list of words, of size 929589, represented by numbers, e.g. [9971, 9972, 9974, 9975,...]</li>\n",
        "    <li>We read data as mini-batch of size b=30. Assume the size of each sentence is 20 words (num_steps = 20). Then it will take $$floor(\\frac{N}{b \\times h})+1=1548$$ iterations for the learner to go through all sentences once. Where N is the size of the list of words, b is batch size, and h is size of each sentence. So, the number of iterators is 1548\n",
        "    </li>\n",
        "    <li>Each batch data is read from train dataset of size 600, and shape of [30x20]</li>\n",
        "</ul>"
      ]
    },
    {
      "cell_type": "markdown",
      "metadata": {
        "button": false,
        "deletable": true,
        "new_sheet": false,
        "run_control": {
          "read_only": false
        },
        "id": "QGwE9oMjTlvd",
        "colab_type": "text"
      },
      "source": [
        "First we start an interactive session:"
      ]
    },
    {
      "cell_type": "code",
      "metadata": {
        "button": false,
        "deletable": true,
        "new_sheet": false,
        "run_control": {
          "read_only": false
        },
        "id": "I7oZDYxkTlve",
        "colab_type": "code",
        "colab": {}
      },
      "source": [
        "session = tf.InteractiveSession()"
      ],
      "execution_count": 6,
      "outputs": []
    },
    {
      "cell_type": "code",
      "metadata": {
        "button": false,
        "deletable": true,
        "new_sheet": false,
        "run_control": {
          "read_only": false
        },
        "id": "A5_aAjXuTlvh",
        "colab_type": "code",
        "colab": {
          "base_uri": "https://localhost:8080/",
          "height": 51
        },
        "outputId": "769c8e2f-4f24-40d3-aab5-59651c653623"
      },
      "source": [
        "# Reads the data and separates it into training data, validation data and testing data\n",
        "raw_data = reader.ptb_raw_data(data_dir)\n",
        "train_data, valid_data, test_data, vocab, word_to_id = raw_data"
      ],
      "execution_count": 7,
      "outputs": [
        {
          "output_type": "stream",
          "text": [
            "WARNING:tensorflow:From /content/reader.py:30: The name tf.gfile.GFile is deprecated. Please use tf.io.gfile.GFile instead.\n",
            "\n"
          ],
          "name": "stdout"
        }
      ]
    },
    {
      "cell_type": "code",
      "metadata": {
        "id": "aocakpnMTlvl",
        "colab_type": "code",
        "colab": {
          "base_uri": "https://localhost:8080/",
          "height": 34
        },
        "outputId": "f6f0f065-13be-43b0-eb18-4987e8c412fc"
      },
      "source": [
        "len(train_data)"
      ],
      "execution_count": 8,
      "outputs": [
        {
          "output_type": "execute_result",
          "data": {
            "text/plain": [
              "929589"
            ]
          },
          "metadata": {
            "tags": []
          },
          "execution_count": 8
        }
      ]
    },
    {
      "cell_type": "code",
      "metadata": {
        "id": "Guxj-4hoTlvo",
        "colab_type": "code",
        "colab": {
          "base_uri": "https://localhost:8080/",
          "height": 54
        },
        "outputId": "c427ca3f-02e0-46bd-ab3e-b222fed90fd8"
      },
      "source": [
        "def id_to_word(id_list):\n",
        "    line = []\n",
        "    for w in id_list:\n",
        "        for word, wid in word_to_id.items():\n",
        "            if wid == w:\n",
        "                line.append(word)\n",
        "    return line            \n",
        "                \n",
        "\n",
        "print(id_to_word(train_data[0:100]))"
      ],
      "execution_count": 9,
      "outputs": [
        {
          "output_type": "stream",
          "text": [
            "['aer', 'banknote', 'berlitz', 'calloway', 'centrust', 'cluett', 'fromstein', 'gitano', 'guterman', 'hydro-quebec', 'ipo', 'kia', 'memotec', 'mlx', 'nahb', 'punts', 'rake', 'regatta', 'rubens', 'sim', 'snack-food', 'ssangyong', 'swapo', 'wachter', '<eos>', 'pierre', '<unk>', 'N', 'years', 'old', 'will', 'join', 'the', 'board', 'as', 'a', 'nonexecutive', 'director', 'nov.', 'N', '<eos>', 'mr.', '<unk>', 'is', 'chairman', 'of', '<unk>', 'n.v.', 'the', 'dutch', 'publishing', 'group', '<eos>', 'rudolph', '<unk>', 'N', 'years', 'old', 'and', 'former', 'chairman', 'of', 'consolidated', 'gold', 'fields', 'plc', 'was', 'named', 'a', 'nonexecutive', 'director', 'of', 'this', 'british', 'industrial', 'conglomerate', '<eos>', 'a', 'form', 'of', 'asbestos', 'once', 'used', 'to', 'make', 'kent', 'cigarette', 'filters', 'has', 'caused', 'a', 'high', 'percentage', 'of', 'cancer', 'deaths', 'among', 'a', 'group', 'of']\n"
          ],
          "name": "stdout"
        }
      ]
    },
    {
      "cell_type": "markdown",
      "metadata": {
        "button": false,
        "deletable": true,
        "new_sheet": false,
        "run_control": {
          "read_only": false
        },
        "id": "19DBFfcHTlvr",
        "colab_type": "text"
      },
      "source": [
        "Lets just read one mini-batch now and feed our network:"
      ]
    },
    {
      "cell_type": "code",
      "metadata": {
        "button": false,
        "deletable": true,
        "new_sheet": false,
        "run_control": {
          "read_only": false
        },
        "id": "rewg54bbTlvs",
        "colab_type": "code",
        "colab": {}
      },
      "source": [
        "itera = reader.ptb_iterator(train_data, batch_size, num_steps)\n",
        "first_touple = itera.__next__()\n",
        "x = first_touple[0]\n",
        "y = first_touple[1]"
      ],
      "execution_count": 10,
      "outputs": []
    },
    {
      "cell_type": "code",
      "metadata": {
        "button": false,
        "deletable": true,
        "new_sheet": false,
        "run_control": {
          "read_only": false
        },
        "id": "QmXxz7YyTlvv",
        "colab_type": "code",
        "colab": {
          "base_uri": "https://localhost:8080/",
          "height": 34
        },
        "outputId": "a9a21134-ef2b-484a-b541-5a6947bb3d9d"
      },
      "source": [
        "x.shape"
      ],
      "execution_count": 11,
      "outputs": [
        {
          "output_type": "execute_result",
          "data": {
            "text/plain": [
              "(60, 20)"
            ]
          },
          "metadata": {
            "tags": []
          },
          "execution_count": 11
        }
      ]
    },
    {
      "cell_type": "markdown",
      "metadata": {
        "button": false,
        "deletable": true,
        "new_sheet": false,
        "run_control": {
          "read_only": false
        },
        "id": "9EdKMHZsTlv0",
        "colab_type": "text"
      },
      "source": [
        "Lets look at 3 sentences of our input x:"
      ]
    },
    {
      "cell_type": "code",
      "metadata": {
        "button": false,
        "deletable": true,
        "new_sheet": false,
        "run_control": {
          "read_only": false
        },
        "id": "dXYQ5MY5Tlv1",
        "colab_type": "code",
        "colab": {
          "base_uri": "https://localhost:8080/",
          "height": 136
        },
        "outputId": "c6244fd5-8029-4a2c-b8f2-46ab7856cf76"
      },
      "source": [
        "x[0:3]"
      ],
      "execution_count": 12,
      "outputs": [
        {
          "output_type": "execute_result",
          "data": {
            "text/plain": [
              "array([[9970, 9971, 9972, 9974, 9975, 9976, 9980, 9981, 9982, 9983, 9984,\n",
              "        9986, 9987, 9988, 9989, 9991, 9992, 9993, 9994, 9995],\n",
              "       [ 901,   33, 3361,    8, 1279,  437,  597,    6,  261, 4276, 1089,\n",
              "           8, 2836,    2,  269,    4, 5526,  241,   13, 2420],\n",
              "       [2654,    6,  334, 2886,    4,    1,  233,  711,  834,   11,  130,\n",
              "         123,    7,  514,    2,   63,   10,  514,    8,  605]],\n",
              "      dtype=int32)"
            ]
          },
          "metadata": {
            "tags": []
          },
          "execution_count": 12
        }
      ]
    },
    {
      "cell_type": "markdown",
      "metadata": {
        "button": false,
        "deletable": true,
        "new_sheet": false,
        "run_control": {
          "read_only": false
        },
        "id": "gp_j08L-Tlv4",
        "colab_type": "text"
      },
      "source": [
        "we define 2 place holders to feed them with mini-batchs, that is x and y:"
      ]
    },
    {
      "cell_type": "code",
      "metadata": {
        "button": false,
        "deletable": true,
        "new_sheet": false,
        "run_control": {
          "read_only": false
        },
        "id": "TM8bMvZXTlv5",
        "colab_type": "code",
        "colab": {}
      },
      "source": [
        "_input_data = tf.placeholder(tf.int32, [batch_size, num_steps]) #[30#20]\n",
        "_targets = tf.placeholder(tf.int32, [batch_size, num_steps]) #[30#20]"
      ],
      "execution_count": 13,
      "outputs": []
    },
    {
      "cell_type": "markdown",
      "metadata": {
        "button": false,
        "deletable": true,
        "new_sheet": false,
        "run_control": {
          "read_only": false
        },
        "id": "g9rO_ISwTlv8",
        "colab_type": "text"
      },
      "source": [
        "Lets define a dictionary, and use it later to feed the placeholders with our first mini-batch:"
      ]
    },
    {
      "cell_type": "code",
      "metadata": {
        "button": false,
        "deletable": true,
        "new_sheet": false,
        "run_control": {
          "read_only": false
        },
        "id": "9F3oMJgfTlv9",
        "colab_type": "code",
        "colab": {}
      },
      "source": [
        "feed_dict = {_input_data:x, _targets:y}"
      ],
      "execution_count": 14,
      "outputs": []
    },
    {
      "cell_type": "markdown",
      "metadata": {
        "button": false,
        "deletable": true,
        "new_sheet": false,
        "run_control": {
          "read_only": false
        },
        "id": "8lHsjJ8wTlwA",
        "colab_type": "text"
      },
      "source": [
        "For example, we can use it to feed <code>\\_input\\_data</code>:"
      ]
    },
    {
      "cell_type": "code",
      "metadata": {
        "button": false,
        "deletable": true,
        "new_sheet": false,
        "run_control": {
          "read_only": false
        },
        "id": "OV5atYBmTlwB",
        "colab_type": "code",
        "colab": {
          "base_uri": "https://localhost:8080/",
          "height": 136
        },
        "outputId": "a53a484e-8ca5-4fa5-efa2-e0c440cd88fa"
      },
      "source": [
        "session.run(_input_data, feed_dict)"
      ],
      "execution_count": 15,
      "outputs": [
        {
          "output_type": "execute_result",
          "data": {
            "text/plain": [
              "array([[9970, 9971, 9972, ..., 9993, 9994, 9995],\n",
              "       [ 901,   33, 3361, ...,  241,   13, 2420],\n",
              "       [2654,    6,  334, ...,  514,    8,  605],\n",
              "       ...,\n",
              "       [7831,   36, 1678, ...,    4, 4558,  157],\n",
              "       [  59, 2070, 2433, ...,  400,    1, 1173],\n",
              "       [2097,    3,    2, ..., 2043,   23,    1]], dtype=int32)"
            ]
          },
          "metadata": {
            "tags": []
          },
          "execution_count": 15
        }
      ]
    },
    {
      "cell_type": "markdown",
      "metadata": {
        "button": false,
        "deletable": true,
        "new_sheet": false,
        "run_control": {
          "read_only": false
        },
        "id": "ZNht0cvsTlwF",
        "colab_type": "text"
      },
      "source": [
        "In this step, we create the stacked LSTM, which is a 2 layer LSTM network:"
      ]
    },
    {
      "cell_type": "code",
      "metadata": {
        "button": false,
        "deletable": true,
        "new_sheet": false,
        "run_control": {
          "read_only": false
        },
        "id": "1hjnEn6rTlwF",
        "colab_type": "code",
        "colab": {
          "base_uri": "https://localhost:8080/",
          "height": 255
        },
        "outputId": "d7b6a966-f662-44e2-ab5b-3d84038a33c1"
      },
      "source": [
        "lstm_cell_l1 = tf.contrib.rnn.BasicLSTMCell(hidden_size_l1, forget_bias=0.0)\n",
        "lstm_cell_l2 = tf.contrib.rnn.BasicLSTMCell(hidden_size_l2, forget_bias=0.0)\n",
        "stacked_lstm = tf.contrib.rnn.MultiRNNCell([lstm_cell_l1, lstm_cell_l2])"
      ],
      "execution_count": 16,
      "outputs": [
        {
          "output_type": "stream",
          "text": [
            "WARNING:tensorflow:\n",
            "The TensorFlow contrib module will not be included in TensorFlow 2.0.\n",
            "For more information, please see:\n",
            "  * https://github.com/tensorflow/community/blob/master/rfcs/20180907-contrib-sunset.md\n",
            "  * https://github.com/tensorflow/addons\n",
            "  * https://github.com/tensorflow/io (for I/O related ops)\n",
            "If you depend on functionality not listed there, please file an issue.\n",
            "\n",
            "WARNING:tensorflow:From <ipython-input-16-ddf565d0e753>:1: BasicLSTMCell.__init__ (from tensorflow.python.ops.rnn_cell_impl) is deprecated and will be removed in a future version.\n",
            "Instructions for updating:\n",
            "This class is equivalent as tf.keras.layers.LSTMCell, and will be replaced by that in Tensorflow 2.0.\n",
            "WARNING:tensorflow:From <ipython-input-16-ddf565d0e753>:3: MultiRNNCell.__init__ (from tensorflow.python.ops.rnn_cell_impl) is deprecated and will be removed in a future version.\n",
            "Instructions for updating:\n",
            "This class is equivalent as tf.keras.layers.StackedRNNCells, and will be replaced by that in Tensorflow 2.0.\n"
          ],
          "name": "stdout"
        }
      ]
    },
    {
      "cell_type": "markdown",
      "metadata": {
        "button": false,
        "deletable": true,
        "new_sheet": false,
        "run_control": {
          "read_only": false
        },
        "id": "-98EVQ7lTlwI",
        "colab_type": "text"
      },
      "source": [
        "Also, we initialize the states of the nework:\n",
        "\n",
        "<h4>_initial_state</h4>\n",
        "\n",
        "For each LCTM, there are 2 state matrices, c\\_state and m\\_state.  c_state and m_state represent \"Memory State\" and \"Cell State\". Each hidden layer, has a vector of size 30, which keeps the states. so, for 200 hidden units in each LSTM, we have a matrix of size [30x200]"
      ]
    },
    {
      "cell_type": "code",
      "metadata": {
        "button": false,
        "deletable": true,
        "new_sheet": false,
        "run_control": {
          "read_only": false
        },
        "id": "Mc-uBOxcTlwI",
        "colab_type": "code",
        "colab": {
          "base_uri": "https://localhost:8080/",
          "height": 71
        },
        "outputId": "f270c202-d0bb-4c9f-8b13-9d72f053c38c"
      },
      "source": [
        "_initial_state = stacked_lstm.zero_state(batch_size, tf.float32)\n",
        "_initial_state"
      ],
      "execution_count": 17,
      "outputs": [
        {
          "output_type": "execute_result",
          "data": {
            "text/plain": [
              "(LSTMStateTuple(c=<tf.Tensor 'MultiRNNCellZeroState/BasicLSTMCellZeroState/zeros:0' shape=(60, 256) dtype=float32>, h=<tf.Tensor 'MultiRNNCellZeroState/BasicLSTMCellZeroState/zeros_1:0' shape=(60, 256) dtype=float32>),\n",
              " LSTMStateTuple(c=<tf.Tensor 'MultiRNNCellZeroState/BasicLSTMCellZeroState_1/zeros:0' shape=(60, 128) dtype=float32>, h=<tf.Tensor 'MultiRNNCellZeroState/BasicLSTMCellZeroState_1/zeros_1:0' shape=(60, 128) dtype=float32>))"
            ]
          },
          "metadata": {
            "tags": []
          },
          "execution_count": 17
        }
      ]
    },
    {
      "cell_type": "markdown",
      "metadata": {
        "button": false,
        "deletable": true,
        "new_sheet": false,
        "run_control": {
          "read_only": false
        },
        "id": "As748U-ZTlwL",
        "colab_type": "text"
      },
      "source": [
        "Lets look at the states, though they are all zero for now:"
      ]
    },
    {
      "cell_type": "code",
      "metadata": {
        "button": false,
        "deletable": true,
        "new_sheet": false,
        "run_control": {
          "read_only": false
        },
        "id": "7nPBUHeeTlwM",
        "colab_type": "code",
        "colab": {
          "base_uri": "https://localhost:8080/",
          "height": 459
        },
        "outputId": "1bacd1cb-a6c2-4661-a63f-8241b7fd812c"
      },
      "source": [
        "session.run(_initial_state, feed_dict)"
      ],
      "execution_count": 18,
      "outputs": [
        {
          "output_type": "execute_result",
          "data": {
            "text/plain": [
              "(LSTMStateTuple(c=array([[0., 0., 0., ..., 0., 0., 0.],\n",
              "       [0., 0., 0., ..., 0., 0., 0.],\n",
              "       [0., 0., 0., ..., 0., 0., 0.],\n",
              "       ...,\n",
              "       [0., 0., 0., ..., 0., 0., 0.],\n",
              "       [0., 0., 0., ..., 0., 0., 0.],\n",
              "       [0., 0., 0., ..., 0., 0., 0.]], dtype=float32), h=array([[0., 0., 0., ..., 0., 0., 0.],\n",
              "       [0., 0., 0., ..., 0., 0., 0.],\n",
              "       [0., 0., 0., ..., 0., 0., 0.],\n",
              "       ...,\n",
              "       [0., 0., 0., ..., 0., 0., 0.],\n",
              "       [0., 0., 0., ..., 0., 0., 0.],\n",
              "       [0., 0., 0., ..., 0., 0., 0.]], dtype=float32)),\n",
              " LSTMStateTuple(c=array([[0., 0., 0., ..., 0., 0., 0.],\n",
              "       [0., 0., 0., ..., 0., 0., 0.],\n",
              "       [0., 0., 0., ..., 0., 0., 0.],\n",
              "       ...,\n",
              "       [0., 0., 0., ..., 0., 0., 0.],\n",
              "       [0., 0., 0., ..., 0., 0., 0.],\n",
              "       [0., 0., 0., ..., 0., 0., 0.]], dtype=float32), h=array([[0., 0., 0., ..., 0., 0., 0.],\n",
              "       [0., 0., 0., ..., 0., 0., 0.],\n",
              "       [0., 0., 0., ..., 0., 0., 0.],\n",
              "       ...,\n",
              "       [0., 0., 0., ..., 0., 0., 0.],\n",
              "       [0., 0., 0., ..., 0., 0., 0.],\n",
              "       [0., 0., 0., ..., 0., 0., 0.]], dtype=float32)))"
            ]
          },
          "metadata": {
            "tags": []
          },
          "execution_count": 18
        }
      ]
    },
    {
      "cell_type": "markdown",
      "metadata": {
        "button": false,
        "deletable": true,
        "new_sheet": false,
        "run_control": {
          "read_only": false
        },
        "id": "oRDhabeeTlwO",
        "colab_type": "text"
      },
      "source": [
        "<h3>Embeddings</h3>\n",
        "We have to convert the words in our dataset to vectors of numbers. The traditional approach is to use one-hot encoding method that is usually used for converting categorical values to numerical values. However, One-hot encoded vectors are high-dimensional, sparse and in a big dataset, computationally inefficient. So, we use word2vec approach. It is, in fact, a layer in our LSTM network, where the word IDs will be represented as a dense representation before feeding to the LSTM. \n",
        "\n",
        "The embedded vectors also get updated during the training process of the deep neural network.\n",
        "We create the embeddings for our input data. <b>embedding_vocab</b> is matrix of [10000x200] for all 10000 unique words."
      ]
    },
    {
      "cell_type": "code",
      "metadata": {
        "button": false,
        "deletable": true,
        "new_sheet": false,
        "run_control": {
          "read_only": false
        },
        "id": "4Sx50FpUTlwP",
        "colab_type": "code",
        "colab": {}
      },
      "source": [
        "embedding_vocab = tf.get_variable(\"embedding_vocab\", [vocab_size, embeding_vector_size])  #[10000x200]"
      ],
      "execution_count": 19,
      "outputs": []
    },
    {
      "cell_type": "markdown",
      "metadata": {
        "id": "cdnmfizdTlwR",
        "colab_type": "text"
      },
      "source": [
        "Lets initialize the <code>embedding_words</code> variable with random values."
      ]
    },
    {
      "cell_type": "code",
      "metadata": {
        "button": false,
        "deletable": true,
        "new_sheet": false,
        "run_control": {
          "read_only": false
        },
        "id": "i0uchvOlTlwS",
        "colab_type": "code",
        "colab": {
          "base_uri": "https://localhost:8080/",
          "height": 238
        },
        "outputId": "e8bc8536-d68b-40a4-db08-96fe185adf10"
      },
      "source": [
        "session.run(tf.global_variables_initializer())\n",
        "session.run(embedding_vocab)"
      ],
      "execution_count": 20,
      "outputs": [
        {
          "output_type": "execute_result",
          "data": {
            "text/plain": [
              "array([[ 0.01846453,  0.01675761, -0.00723397, ..., -0.008777  ,\n",
              "        -0.01034234, -0.00728499],\n",
              "       [-0.01170964,  0.00736644, -0.02058788, ..., -0.02147398,\n",
              "        -0.00103185, -0.00107379],\n",
              "       [-0.01085461,  0.00271973, -0.01813423, ..., -0.01693106,\n",
              "         0.0100968 , -0.01536858],\n",
              "       ...,\n",
              "       [-0.01786768,  0.02059763, -0.01651185, ...,  0.00249255,\n",
              "        -0.00249318,  0.00940457],\n",
              "       [ 0.01728657, -0.00091298,  0.02350754, ...,  0.0184946 ,\n",
              "         0.01623305, -0.00622538],\n",
              "       [ 0.00761727, -0.01562339, -0.02391179, ...,  0.02036176,\n",
              "        -0.00575994, -0.01457711]], dtype=float32)"
            ]
          },
          "metadata": {
            "tags": []
          },
          "execution_count": 20
        }
      ]
    },
    {
      "cell_type": "markdown",
      "metadata": {
        "button": false,
        "deletable": true,
        "new_sheet": false,
        "run_control": {
          "read_only": false
        },
        "id": "8QfkoxPRTlwY",
        "colab_type": "text"
      },
      "source": [
        "<b>embedding_lookup()</b> finds the embedded values for our batch of 30x20 words. It  goes to each row of <code>input_data</code>, and for each word in the row/sentence, finds the correspond vector in <code>embedding_dic<code>. <br>\n",
        "It creates a [30x20x200] tensor, so, the first element of <b>inputs</b> (the first sentence), is a matrix of 20x200, which each row of it, is vector representing a word in the sentence."
      ]
    },
    {
      "cell_type": "code",
      "metadata": {
        "button": false,
        "deletable": true,
        "new_sheet": false,
        "run_control": {
          "read_only": false
        },
        "id": "zljkndbgTlwZ",
        "colab_type": "code",
        "colab": {
          "base_uri": "https://localhost:8080/",
          "height": 34
        },
        "outputId": "cc327a57-d979-420a-963a-9280e4b24118"
      },
      "source": [
        "# Define where to get the data for our embeddings from\n",
        "inputs = tf.nn.embedding_lookup(embedding_vocab, _input_data)  #shape=(30, 20, 200) \n",
        "inputs"
      ],
      "execution_count": 21,
      "outputs": [
        {
          "output_type": "execute_result",
          "data": {
            "text/plain": [
              "<tf.Tensor 'embedding_lookup/Identity:0' shape=(60, 20, 200) dtype=float32>"
            ]
          },
          "metadata": {
            "tags": []
          },
          "execution_count": 21
        }
      ]
    },
    {
      "cell_type": "code",
      "metadata": {
        "button": false,
        "deletable": true,
        "new_sheet": false,
        "run_control": {
          "read_only": false
        },
        "id": "IPslQX6jTlwe",
        "colab_type": "code",
        "colab": {
          "base_uri": "https://localhost:8080/",
          "height": 238
        },
        "outputId": "7818fa86-4024-4a84-fb1c-b06d395cd910"
      },
      "source": [
        "session.run(inputs[0], feed_dict)"
      ],
      "execution_count": 22,
      "outputs": [
        {
          "output_type": "execute_result",
          "data": {
            "text/plain": [
              "array([[ 1.02616809e-02,  1.08693428e-02, -7.83885457e-03, ...,\n",
              "         2.30327025e-02,  3.52896750e-05,  1.08290389e-02],\n",
              "       [-2.13879514e-02,  1.90902874e-03, -5.28248027e-04, ...,\n",
              "        -1.93128958e-02,  1.17429905e-02,  1.20361075e-02],\n",
              "       [-1.66706461e-02, -1.58619136e-04, -8.18480551e-03, ...,\n",
              "        -8.24363902e-04, -2.31095590e-02, -1.09093972e-02],\n",
              "       ...,\n",
              "       [-9.94289294e-04, -1.37815708e-02, -4.60114703e-03, ...,\n",
              "         2.23657079e-02,  3.29967961e-03, -1.77252349e-02],\n",
              "       [ 1.77074037e-02, -6.76441379e-03, -1.34711200e-02, ...,\n",
              "         2.27624588e-02, -2.01190114e-02,  1.04601495e-02],\n",
              "       [ 2.34583430e-02,  1.09869242e-02, -1.32762901e-02, ...,\n",
              "        -1.06648551e-02,  5.45940176e-03, -1.64202228e-03]], dtype=float32)"
            ]
          },
          "metadata": {
            "tags": []
          },
          "execution_count": 22
        }
      ]
    },
    {
      "cell_type": "markdown",
      "metadata": {
        "button": false,
        "deletable": true,
        "new_sheet": false,
        "run_control": {
          "read_only": false
        },
        "id": "AJh3f5qxTlwg",
        "colab_type": "text"
      },
      "source": [
        "<h3>Constructing Recurrent Neural Networks</h3>\n",
        "<b>tf.nn.dynamic_rnn()</b> creates a recurrent neural network using <b>stacked_lstm</b>. \n",
        "\n",
        "The input should be a Tensor of shape: [batch_size, max_time, embedding_vector_size], in our case it would be (30, 20, 200)\n",
        "\n",
        "This method, returns a pair (outputs, new_state) where:\n",
        "<ul>\n",
        "    <li><b>outputs</b>: is a length T list of outputs (one for each input), or a nested tuple of such elements.</li>\n",
        "    <li><b>new_state</b>: is the final state.</li>\n",
        "</ul>"
      ]
    },
    {
      "cell_type": "code",
      "metadata": {
        "button": false,
        "deletable": true,
        "new_sheet": false,
        "run_control": {
          "read_only": false
        },
        "scrolled": true,
        "id": "uTOaTz5VTlwg",
        "colab_type": "code",
        "colab": {
          "base_uri": "https://localhost:8080/",
          "height": 190
        },
        "outputId": "5f2a25ec-b99c-448b-cb47-5e3c0b29230e"
      },
      "source": [
        "outputs, new_state =  tf.nn.dynamic_rnn(stacked_lstm, inputs, initial_state=_initial_state)"
      ],
      "execution_count": 23,
      "outputs": [
        {
          "output_type": "stream",
          "text": [
            "WARNING:tensorflow:From <ipython-input-23-f5b68f99f9ac>:1: dynamic_rnn (from tensorflow.python.ops.rnn) is deprecated and will be removed in a future version.\n",
            "Instructions for updating:\n",
            "Please use `keras.layers.RNN(cell)`, which is equivalent to this API\n",
            "WARNING:tensorflow:From /tensorflow-1.15.2/python3.6/tensorflow_core/python/ops/rnn_cell_impl.py:735: Layer.add_variable (from tensorflow.python.keras.engine.base_layer) is deprecated and will be removed in a future version.\n",
            "Instructions for updating:\n",
            "Please use `layer.add_weight` method instead.\n",
            "WARNING:tensorflow:From /tensorflow-1.15.2/python3.6/tensorflow_core/python/ops/rnn_cell_impl.py:739: calling Zeros.__init__ (from tensorflow.python.ops.init_ops) with dtype is deprecated and will be removed in a future version.\n",
            "Instructions for updating:\n",
            "Call initializer instance with the dtype argument instead of passing it to the constructor\n"
          ],
          "name": "stdout"
        }
      ]
    },
    {
      "cell_type": "markdown",
      "metadata": {
        "button": false,
        "deletable": true,
        "new_sheet": false,
        "run_control": {
          "read_only": false
        },
        "id": "ZQ_uFnwrTlwj",
        "colab_type": "text"
      },
      "source": [
        "so, lets look at the outputs. The output of the stackedLSTM comes from 200 hidden_layer, and in each time step(=20), one of them get activated. we use the linear activation to map the 200 hidden layer to a [?x10 matrix]"
      ]
    },
    {
      "cell_type": "code",
      "metadata": {
        "button": false,
        "deletable": true,
        "new_sheet": false,
        "run_control": {
          "read_only": false
        },
        "id": "4xr1kk7yTlwj",
        "colab_type": "code",
        "colab": {
          "base_uri": "https://localhost:8080/",
          "height": 34
        },
        "outputId": "ac91fd75-68c9-44f1-fc41-622d92ad836a"
      },
      "source": [
        "outputs"
      ],
      "execution_count": 24,
      "outputs": [
        {
          "output_type": "execute_result",
          "data": {
            "text/plain": [
              "<tf.Tensor 'rnn/transpose_1:0' shape=(60, 20, 128) dtype=float32>"
            ]
          },
          "metadata": {
            "tags": []
          },
          "execution_count": 24
        }
      ]
    },
    {
      "cell_type": "code",
      "metadata": {
        "button": false,
        "deletable": true,
        "new_sheet": false,
        "run_control": {
          "read_only": false
        },
        "id": "xq9Ur6f_Tlwm",
        "colab_type": "code",
        "colab": {
          "base_uri": "https://localhost:8080/",
          "height": 238
        },
        "outputId": "bb9c69b8-d289-4348-8f18-9e39f17d9ec7"
      },
      "source": [
        "session.run(tf.global_variables_initializer())\n",
        "session.run(outputs[0], feed_dict)"
      ],
      "execution_count": 25,
      "outputs": [
        {
          "output_type": "execute_result",
          "data": {
            "text/plain": [
              "array([[ 2.3744309e-04,  2.4972425e-04,  4.1361840e-04, ...,\n",
              "         4.1312509e-04, -4.8418730e-04, -2.2876513e-04],\n",
              "       [ 2.7579183e-04,  7.0007419e-04,  1.3558491e-04, ...,\n",
              "         4.8693510e-05, -4.1753519e-04,  3.5105553e-04],\n",
              "       [ 2.0448019e-04,  8.2704017e-04, -1.0721322e-04, ...,\n",
              "         1.3533543e-04, -2.9982816e-04,  4.9458438e-04],\n",
              "       ...,\n",
              "       [ 7.2989357e-04, -8.6658180e-04, -6.1485887e-04, ...,\n",
              "         6.5386936e-04, -3.6258672e-04,  5.0057698e-04],\n",
              "       [ 6.9432124e-04, -7.2086154e-04, -5.7192706e-04, ...,\n",
              "         9.0656168e-04, -6.5037707e-04,  2.5152684e-05],\n",
              "       [ 8.6064113e-04, -5.7913613e-04, -6.2461104e-04, ...,\n",
              "         9.3427044e-04, -3.2186753e-04, -5.4636225e-04]], dtype=float32)"
            ]
          },
          "metadata": {
            "tags": []
          },
          "execution_count": 25
        }
      ]
    },
    {
      "cell_type": "markdown",
      "metadata": {
        "button": false,
        "deletable": true,
        "new_sheet": false,
        "run_control": {
          "read_only": false
        },
        "id": "GEqgadK_Tlwp",
        "colab_type": "text"
      },
      "source": [
        "we need to flatten the outputs to be able to connect it softmax layer. Lets reshape the output tensor from  [30 x 20 x 200] to [600 x 200].\n",
        "\n",
        "<b>Notice:</b> Imagine our output is 3-d tensor as following (of course each <code>sen_x_word_y</code> is a an embedded vector by itself): \n",
        "<ul>\n",
        "    <li>sentence 1: [[sen1word1], [sen1word2], [sen1word3], ..., [sen1word20]]</li> \n",
        "    <li>sentence 2: [[sen2word1], [sen2word2], [sen2word3], ..., [sen2word20]]</li>   \n",
        "    <li>sentence 3: [[sen3word1], [sen3word2], [sen3word3], ..., [sen3word20]]</li>  \n",
        "    <li>...  </li>\n",
        "    <li>sentence 30: [[sen30word1], [sen30word2], [sen30word3], ..., [sen30word20]]</li>   \n",
        "</ul>\n",
        "Now, the flatten would convert this 3-dim tensor to:\n",
        "\n",
        "[ [sen1word1], [sen1word2], [sen1word3], ..., [sen1word20],[sen2word1], [sen2word2], [sen2word3], ..., [sen2word20], ..., [sen30word20] ]\n"
      ]
    },
    {
      "cell_type": "code",
      "metadata": {
        "button": false,
        "deletable": true,
        "new_sheet": false,
        "run_control": {
          "read_only": false
        },
        "id": "9xMiIFOiTlwp",
        "colab_type": "code",
        "colab": {
          "base_uri": "https://localhost:8080/",
          "height": 34
        },
        "outputId": "c718bf85-eea5-4578-c215-1878e61ca8fb"
      },
      "source": [
        "output = tf.reshape(outputs, [-1, hidden_size_l2])\n",
        "output"
      ],
      "execution_count": 26,
      "outputs": [
        {
          "output_type": "execute_result",
          "data": {
            "text/plain": [
              "<tf.Tensor 'Reshape:0' shape=(1200, 128) dtype=float32>"
            ]
          },
          "metadata": {
            "tags": []
          },
          "execution_count": 26
        }
      ]
    },
    {
      "cell_type": "markdown",
      "metadata": {
        "button": false,
        "deletable": true,
        "new_sheet": false,
        "run_control": {
          "read_only": false
        },
        "id": "ylHVUQ6QTlws",
        "colab_type": "text"
      },
      "source": [
        "<h3>logistic unit</h3>\n",
        "Now, we create a logistic unit to return the probability of the output word in our vocabulary with 1000 words. \n",
        "\n",
        "$$Softmax = [600 \\times 200] * [200 \\times 1000] + [1 \\times 1000] \\Longrightarrow [600 \\times 1000]$$"
      ]
    },
    {
      "cell_type": "code",
      "metadata": {
        "button": false,
        "deletable": true,
        "new_sheet": false,
        "run_control": {
          "read_only": false
        },
        "id": "jAsIccy6Tlws",
        "colab_type": "code",
        "colab": {}
      },
      "source": [
        "softmax_w = tf.get_variable(\"softmax_w\", [hidden_size_l2, vocab_size]) #[200x1000]\n",
        "softmax_w.shape\n",
        "softmax_b = tf.get_variable(\"softmax_b\", [vocab_size]) #[1x1000]\n",
        "logits = tf.matmul(output, softmax_w) + softmax_b\n",
        "prob = tf.nn.softmax(logits)"
      ],
      "execution_count": 27,
      "outputs": []
    },
    {
      "cell_type": "markdown",
      "metadata": {
        "id": "kJ_Mc3NdTlwu",
        "colab_type": "text"
      },
      "source": [
        "Lets look at the probability of observing words for t=0 to t=20:"
      ]
    },
    {
      "cell_type": "code",
      "metadata": {
        "button": false,
        "deletable": true,
        "new_sheet": false,
        "run_control": {
          "read_only": false
        },
        "id": "kFlV2l0gTlwv",
        "colab_type": "code",
        "colab": {
          "base_uri": "https://localhost:8080/",
          "height": 255
        },
        "outputId": "30299fdd-c2b5-499c-8171-814585f6b1f2"
      },
      "source": [
        "session.run(tf.global_variables_initializer())\n",
        "output_words_prob = session.run(prob, feed_dict)\n",
        "print(\"shape of the output: \", output_words_prob.shape)\n",
        "print(\"The probability of observing words in t=0 to t=20\", output_words_prob[0:20])"
      ],
      "execution_count": 28,
      "outputs": [
        {
          "output_type": "stream",
          "text": [
            "shape of the output:  (1200, 10000)\n",
            "The probability of observing words in t=0 to t=20 [[9.94108559e-05 9.87425083e-05 1.00550817e-04 ... 9.93730064e-05\n",
            "  9.98897740e-05 1.00050609e-04]\n",
            " [9.94101720e-05 9.87445746e-05 1.00549056e-04 ... 9.93765425e-05\n",
            "  9.98943506e-05 1.00044570e-04]\n",
            " [9.94090587e-05 9.87358435e-05 1.00536665e-04 ... 9.93930080e-05\n",
            "  9.98856776e-05 1.00047277e-04]\n",
            " ...\n",
            " [9.94132497e-05 9.87401945e-05 1.00549900e-04 ... 9.93849681e-05\n",
            "  9.98715623e-05 1.00056066e-04]\n",
            " [9.94135844e-05 9.87367239e-05 1.00551202e-04 ... 9.93837457e-05\n",
            "  9.98789983e-05 1.00058132e-04]\n",
            " [9.94101792e-05 9.87420208e-05 1.00550686e-04 ... 9.93857830e-05\n",
            "  9.98736068e-05 1.00055040e-04]]\n"
          ],
          "name": "stdout"
        }
      ]
    },
    {
      "cell_type": "markdown",
      "metadata": {
        "button": false,
        "deletable": true,
        "new_sheet": false,
        "run_control": {
          "read_only": false
        },
        "id": "MaxOYbgQTlwx",
        "colab_type": "text"
      },
      "source": [
        "<h3>Prediction</h3>\n",
        "What is the word correspond to the probability output? Lets use the maximum probability:"
      ]
    },
    {
      "cell_type": "code",
      "metadata": {
        "button": false,
        "deletable": true,
        "new_sheet": false,
        "run_control": {
          "read_only": false
        },
        "id": "cfLQKZzKTlwx",
        "colab_type": "code",
        "colab": {
          "base_uri": "https://localhost:8080/",
          "height": 51
        },
        "outputId": "3c096486-8cc3-4127-b818-b926f2016e92"
      },
      "source": [
        "np.argmax(output_words_prob[0:20], axis=1)"
      ],
      "execution_count": 29,
      "outputs": [
        {
          "output_type": "execute_result",
          "data": {
            "text/plain": [
              "array([7240, 7240, 6728, 4704, 4704, 4704, 4704, 9199, 9199, 1192, 1192,\n",
              "       1192, 2874, 4331, 4331, 4331, 8040, 6066, 6160,  437])"
            ]
          },
          "metadata": {
            "tags": []
          },
          "execution_count": 29
        }
      ]
    },
    {
      "cell_type": "markdown",
      "metadata": {
        "button": false,
        "deletable": true,
        "new_sheet": false,
        "run_control": {
          "read_only": false
        },
        "id": "e-GsXrVxTlwz",
        "colab_type": "text"
      },
      "source": [
        "So, what is the ground truth for the first word of first sentence? "
      ]
    },
    {
      "cell_type": "code",
      "metadata": {
        "button": false,
        "deletable": true,
        "new_sheet": false,
        "run_control": {
          "read_only": false
        },
        "id": "acUo2wUJTlw0",
        "colab_type": "code",
        "colab": {
          "base_uri": "https://localhost:8080/",
          "height": 51
        },
        "outputId": "2d3cb707-f010-4c7c-b87b-0ec8b852c4c4"
      },
      "source": [
        "y[0]"
      ],
      "execution_count": 30,
      "outputs": [
        {
          "output_type": "execute_result",
          "data": {
            "text/plain": [
              "array([9971, 9972, 9974, 9975, 9976, 9980, 9981, 9982, 9983, 9984, 9986,\n",
              "       9987, 9988, 9989, 9991, 9992, 9993, 9994, 9995, 9996], dtype=int32)"
            ]
          },
          "metadata": {
            "tags": []
          },
          "execution_count": 30
        }
      ]
    },
    {
      "cell_type": "markdown",
      "metadata": {
        "button": false,
        "deletable": true,
        "new_sheet": false,
        "run_control": {
          "read_only": false
        },
        "id": "RcQJfMbsTlw2",
        "colab_type": "text"
      },
      "source": [
        "Also, you can get it from target tensor, if you want to find the embedding vector:"
      ]
    },
    {
      "cell_type": "code",
      "metadata": {
        "button": false,
        "deletable": true,
        "new_sheet": false,
        "run_control": {
          "read_only": false
        },
        "id": "PWIfqtdlTlw3",
        "colab_type": "code",
        "colab": {
          "base_uri": "https://localhost:8080/",
          "height": 51
        },
        "outputId": "b7ccbb59-9b78-45f9-9f73-a72fb51758f4"
      },
      "source": [
        "targ = session.run(_targets, feed_dict) \n",
        "targ[0]"
      ],
      "execution_count": 31,
      "outputs": [
        {
          "output_type": "execute_result",
          "data": {
            "text/plain": [
              "array([9971, 9972, 9974, 9975, 9976, 9980, 9981, 9982, 9983, 9984, 9986,\n",
              "       9987, 9988, 9989, 9991, 9992, 9993, 9994, 9995, 9996], dtype=int32)"
            ]
          },
          "metadata": {
            "tags": []
          },
          "execution_count": 31
        }
      ]
    },
    {
      "cell_type": "markdown",
      "metadata": {
        "id": "z4UOHi8UTlw5",
        "colab_type": "text"
      },
      "source": [
        "How similar the predicted words are to the target words?"
      ]
    },
    {
      "cell_type": "markdown",
      "metadata": {
        "button": false,
        "deletable": true,
        "new_sheet": false,
        "run_control": {
          "read_only": false
        },
        "id": "izji5eXPTlw5",
        "colab_type": "text"
      },
      "source": [
        "<h4>Objective function</h4>\n",
        "\n",
        "Now we have to define our objective function, to calculate the similarity of predicted values to ground truth, and then, penalize the model with the error. Our objective is to minimize loss function, that is, to minimize the average negative log probability of the target words:\n",
        "\n",
        "$$\\text{loss} = -\\frac{1}{N}\\sum_{i=1}^{N} \\ln p_{\\text{target}_i}$$\n",
        "\n",
        "This function is already implemented and available in TensorFlow through <b>sequence_loss_by_example</b>. It calculates the weighted cross-entropy loss for <b>logits</b> and the <b>target</b> sequence.  \n",
        "\n",
        "The arguments of this function are:  \n",
        "<ul>\n",
        "    <li>logits: List of 2D Tensors of shape [batch_size x num_decoder_symbols].</li>  \n",
        "    <li>targets: List of 1D batch-sized int32 Tensors of the same length as logits.</li>   \n",
        "    <li>weights: List of 1D batch-sized float-Tensors of the same length as logits.</li> \n",
        "</ul>"
      ]
    },
    {
      "cell_type": "code",
      "metadata": {
        "button": false,
        "deletable": true,
        "new_sheet": false,
        "run_control": {
          "read_only": false
        },
        "id": "_sldQ0TCTlw6",
        "colab_type": "code",
        "colab": {}
      },
      "source": [
        "loss = tf.contrib.legacy_seq2seq.sequence_loss_by_example([logits], [tf.reshape(_targets, [-1])],[tf.ones([batch_size * num_steps])])"
      ],
      "execution_count": 32,
      "outputs": []
    },
    {
      "cell_type": "markdown",
      "metadata": {
        "button": false,
        "deletable": true,
        "new_sheet": false,
        "run_control": {
          "read_only": false
        },
        "id": "HtDA_9KqTlw-",
        "colab_type": "text"
      },
      "source": [
        "loss is a 1D batch-sized float Tensor [600x1]: The log-perplexity for each sequence. Lets look at the first 10 values of loss:"
      ]
    },
    {
      "cell_type": "code",
      "metadata": {
        "button": false,
        "deletable": true,
        "new_sheet": false,
        "run_control": {
          "read_only": false
        },
        "id": "sB_ZVpMjTlw_",
        "colab_type": "code",
        "colab": {
          "base_uri": "https://localhost:8080/",
          "height": 51
        },
        "outputId": "87864992-2184-40d7-dbdc-a35ac5348463"
      },
      "source": [
        "session.run(loss, feed_dict)[:10]"
      ],
      "execution_count": 33,
      "outputs": [
        {
          "output_type": "execute_result",
          "data": {
            "text/plain": [
              "array([9.218952, 9.219679, 9.213258, 9.200042, 9.19857 , 9.215932,\n",
              "       9.212497, 9.227481, 9.204685, 9.225263], dtype=float32)"
            ]
          },
          "metadata": {
            "tags": []
          },
          "execution_count": 33
        }
      ]
    },
    {
      "cell_type": "markdown",
      "metadata": {
        "id": "tpuAonHNTlxC",
        "colab_type": "text"
      },
      "source": [
        "Now, we define loss as average of the losses:"
      ]
    },
    {
      "cell_type": "code",
      "metadata": {
        "button": false,
        "deletable": true,
        "new_sheet": false,
        "run_control": {
          "read_only": false
        },
        "id": "UJX4mLxATlxD",
        "colab_type": "code",
        "colab": {
          "base_uri": "https://localhost:8080/",
          "height": 34
        },
        "outputId": "b10cd8e3-d7ee-407c-83b6-fa14626304d0"
      },
      "source": [
        "cost = tf.reduce_sum(loss) / batch_size\n",
        "session.run(tf.global_variables_initializer())\n",
        "session.run(cost, feed_dict)\n"
      ],
      "execution_count": 34,
      "outputs": [
        {
          "output_type": "execute_result",
          "data": {
            "text/plain": [
              "184.19339"
            ]
          },
          "metadata": {
            "tags": []
          },
          "execution_count": 34
        }
      ]
    },
    {
      "cell_type": "markdown",
      "metadata": {
        "button": false,
        "deletable": true,
        "new_sheet": false,
        "run_control": {
          "read_only": false
        },
        "id": "XqkkT6HNTlxL",
        "colab_type": "text"
      },
      "source": [
        "<h3>Training</h3>\n",
        "\n",
        "To do training for our network, we have to take the following steps:\n",
        "<ol>\n",
        "    <li>Define the optimizer.</li>\n",
        "    <li>Extract variables that are trainable.</li>\n",
        "    <li>Calculate the gradients based on the loss function.</li>\n",
        "    <li>Apply the optimizer to the variables/gradients tuple.</li>\n",
        "</ol>"
      ]
    },
    {
      "cell_type": "markdown",
      "metadata": {
        "button": false,
        "deletable": true,
        "new_sheet": false,
        "run_control": {
          "read_only": false
        },
        "id": "i8H_OO2oTlxM",
        "colab_type": "text"
      },
      "source": [
        "<h4>1. Define Optimizer</h4>\n",
        "\n",
        "<b>GradientDescentOptimizer</b> constructs a new gradient descent optimizer. Later, we use constructed <b>optimizer</b> to compute gradients for a loss and apply gradients to variables."
      ]
    },
    {
      "cell_type": "code",
      "metadata": {
        "button": false,
        "deletable": true,
        "new_sheet": false,
        "run_control": {
          "read_only": false
        },
        "id": "LaX9McXETlxN",
        "colab_type": "code",
        "colab": {}
      },
      "source": [
        "# Create a variable for the learning rate\n",
        "lr = tf.Variable(0.0, trainable=False)\n",
        "# Create the gradient descent optimizer with our learning rate\n",
        "optimizer = tf.train.GradientDescentOptimizer(lr)"
      ],
      "execution_count": 35,
      "outputs": []
    },
    {
      "cell_type": "markdown",
      "metadata": {
        "button": false,
        "deletable": true,
        "new_sheet": false,
        "run_control": {
          "read_only": false
        },
        "id": "I2qcrC5-TlxP",
        "colab_type": "text"
      },
      "source": [
        "\n",
        "<h4>2. Trainable Variables</h4>"
      ]
    },
    {
      "cell_type": "markdown",
      "metadata": {
        "button": false,
        "deletable": true,
        "new_sheet": false,
        "run_control": {
          "read_only": false
        },
        "id": "LKFrK-e0TlxQ",
        "colab_type": "text"
      },
      "source": [
        "Defining a variable, if you passed <i>trainable=True</i>, the variable constructor automatically adds new variables to the graph collection <b>GraphKeys.TRAINABLE_VARIABLES</b>. Now, using <i>tf.trainable_variables()</i> you can get all variables created with <b>trainable=True</b>."
      ]
    },
    {
      "cell_type": "code",
      "metadata": {
        "button": false,
        "deletable": true,
        "new_sheet": false,
        "run_control": {
          "read_only": false
        },
        "id": "2tPrWsOrTlxQ",
        "colab_type": "code",
        "colab": {
          "base_uri": "https://localhost:8080/",
          "height": 136
        },
        "outputId": "7518460b-9ae7-4ad4-c8ea-b21d81a1c3af"
      },
      "source": [
        "# Get all TensorFlow variables marked as \"trainable\" (i.e. all of them except _lr, which we just created)\n",
        "tvars = tf.trainable_variables()\n",
        "tvars"
      ],
      "execution_count": 36,
      "outputs": [
        {
          "output_type": "execute_result",
          "data": {
            "text/plain": [
              "[<tf.Variable 'embedding_vocab:0' shape=(10000, 200) dtype=float32_ref>,\n",
              " <tf.Variable 'rnn/multi_rnn_cell/cell_0/basic_lstm_cell/kernel:0' shape=(456, 1024) dtype=float32_ref>,\n",
              " <tf.Variable 'rnn/multi_rnn_cell/cell_0/basic_lstm_cell/bias:0' shape=(1024,) dtype=float32_ref>,\n",
              " <tf.Variable 'rnn/multi_rnn_cell/cell_1/basic_lstm_cell/kernel:0' shape=(384, 512) dtype=float32_ref>,\n",
              " <tf.Variable 'rnn/multi_rnn_cell/cell_1/basic_lstm_cell/bias:0' shape=(512,) dtype=float32_ref>,\n",
              " <tf.Variable 'softmax_w:0' shape=(128, 10000) dtype=float32_ref>,\n",
              " <tf.Variable 'softmax_b:0' shape=(10000,) dtype=float32_ref>]"
            ]
          },
          "metadata": {
            "tags": []
          },
          "execution_count": 36
        }
      ]
    },
    {
      "cell_type": "markdown",
      "metadata": {
        "button": false,
        "deletable": true,
        "new_sheet": false,
        "run_control": {
          "read_only": false
        },
        "id": "597hEKvmTlxX",
        "colab_type": "text"
      },
      "source": [
        "Note: we can find the name and scope of all variables:"
      ]
    },
    {
      "cell_type": "code",
      "metadata": {
        "button": false,
        "deletable": true,
        "new_sheet": false,
        "run_control": {
          "read_only": false
        },
        "id": "z8dmglnzTlxX",
        "colab_type": "code",
        "colab": {
          "base_uri": "https://localhost:8080/",
          "height": 136
        },
        "outputId": "7ee67eab-d92e-44b9-ab12-58f299cbbfcd"
      },
      "source": [
        "[v.name for v in tvars]"
      ],
      "execution_count": 37,
      "outputs": [
        {
          "output_type": "execute_result",
          "data": {
            "text/plain": [
              "['embedding_vocab:0',\n",
              " 'rnn/multi_rnn_cell/cell_0/basic_lstm_cell/kernel:0',\n",
              " 'rnn/multi_rnn_cell/cell_0/basic_lstm_cell/bias:0',\n",
              " 'rnn/multi_rnn_cell/cell_1/basic_lstm_cell/kernel:0',\n",
              " 'rnn/multi_rnn_cell/cell_1/basic_lstm_cell/bias:0',\n",
              " 'softmax_w:0',\n",
              " 'softmax_b:0']"
            ]
          },
          "metadata": {
            "tags": []
          },
          "execution_count": 37
        }
      ]
    },
    {
      "cell_type": "markdown",
      "metadata": {
        "button": false,
        "deletable": true,
        "new_sheet": false,
        "run_control": {
          "read_only": false
        },
        "id": "Zs9Jdm7jTlxa",
        "colab_type": "text"
      },
      "source": [
        "<h4>3. Calculate the gradients based on the loss function</h4>"
      ]
    },
    {
      "cell_type": "markdown",
      "metadata": {
        "button": false,
        "deletable": true,
        "new_sheet": false,
        "run_control": {
          "read_only": false
        },
        "id": "TRWD_w_YTlxa",
        "colab_type": "text"
      },
      "source": [
        "<h4>Gradient</h4>:\n",
        "The gradient of a function is the slope of its derivative (line), or in other words, the rate of change of a function. It's a vector (a direction to move) that points in the direction of greatest increase of the function, and calculated by the <b>derivative</b> operation.\n",
        "\n",
        "First lets recall the gradient function using an toy example:\n",
        "$$ z = \\left(2x^2 + 3xy\\right)$$"
      ]
    },
    {
      "cell_type": "code",
      "metadata": {
        "button": false,
        "deletable": true,
        "new_sheet": false,
        "run_control": {
          "read_only": false
        },
        "id": "iF3_vgqwTlxb",
        "colab_type": "code",
        "colab": {
          "base_uri": "https://localhost:8080/",
          "height": 34
        },
        "outputId": "d5c087d4-8d10-47cb-f626-2d29d23b03c4"
      },
      "source": [
        "var_x = tf.placeholder(tf.float32)\n",
        "var_y = tf.placeholder(tf.float32) \n",
        "func_test = 2.0 * var_x * var_x + 3.0 * var_x * var_y\n",
        "session.run(tf.global_variables_initializer())\n",
        "session.run(func_test, {var_x:1.0,var_y:2.0})"
      ],
      "execution_count": 38,
      "outputs": [
        {
          "output_type": "execute_result",
          "data": {
            "text/plain": [
              "8.0"
            ]
          },
          "metadata": {
            "tags": []
          },
          "execution_count": 38
        }
      ]
    },
    {
      "cell_type": "markdown",
      "metadata": {
        "button": false,
        "deletable": true,
        "new_sheet": false,
        "run_control": {
          "read_only": false
        },
        "id": "qOHyukKGTlxd",
        "colab_type": "text"
      },
      "source": [
        "The <b>tf.gradients()</b> function allows you to compute the symbolic gradient of one tensor with respect to one or more other tensors—including variables. <b>tf.gradients(func, xs)</b> constructs symbolic partial derivatives of sum of <b>func</b> w.r.t. <i>x</i> in <b>xs</b>. \n",
        "\n",
        "Now, lets look at the derivitive w.r.t. <b>var_x</b>:\n",
        "$$ \\frac{\\partial \\:}{\\partial \\:x}\\left(2x^2 + 3xy\\right) = 4x + 3y $$\n"
      ]
    },
    {
      "cell_type": "code",
      "metadata": {
        "button": false,
        "deletable": true,
        "new_sheet": false,
        "run_control": {
          "read_only": false
        },
        "id": "FVansAPSTlxe",
        "colab_type": "code",
        "colab": {
          "base_uri": "https://localhost:8080/",
          "height": 34
        },
        "outputId": "59910604-940e-4010-af5f-8407ed3f2497"
      },
      "source": [
        "var_grad = tf.gradients(func_test, [var_x])\n",
        "session.run(var_grad, {var_x:1.0,var_y:2.0})"
      ],
      "execution_count": 39,
      "outputs": [
        {
          "output_type": "execute_result",
          "data": {
            "text/plain": [
              "[10.0]"
            ]
          },
          "metadata": {
            "tags": []
          },
          "execution_count": 39
        }
      ]
    },
    {
      "cell_type": "markdown",
      "metadata": {
        "button": false,
        "deletable": true,
        "new_sheet": false,
        "run_control": {
          "read_only": false
        },
        "id": "EahegSS9Tlxg",
        "colab_type": "text"
      },
      "source": [
        "the derivative w.r.t. <b>var_y</b>:\n",
        "$$ \\frac{\\partial \\:}{\\partial \\:x}\\left(2x^2 + 3xy\\right) = 3x $$"
      ]
    },
    {
      "cell_type": "code",
      "metadata": {
        "button": false,
        "deletable": true,
        "new_sheet": false,
        "run_control": {
          "read_only": false
        },
        "id": "m0I6Mzb5Tlxh",
        "colab_type": "code",
        "colab": {
          "base_uri": "https://localhost:8080/",
          "height": 34
        },
        "outputId": "f8834be7-d202-4f37-fe57-ff3d90cb18e3"
      },
      "source": [
        "var_grad = tf.gradients(func_test, [var_y])\n",
        "session.run(var_grad, {var_x:1.0, var_y:2.0})"
      ],
      "execution_count": 40,
      "outputs": [
        {
          "output_type": "execute_result",
          "data": {
            "text/plain": [
              "[3.0]"
            ]
          },
          "metadata": {
            "tags": []
          },
          "execution_count": 40
        }
      ]
    },
    {
      "cell_type": "markdown",
      "metadata": {
        "button": false,
        "deletable": true,
        "new_sheet": false,
        "run_control": {
          "read_only": false
        },
        "id": "xOp7V-wITlxj",
        "colab_type": "text"
      },
      "source": [
        "Now, we can look at gradients w.r.t all variables:"
      ]
    },
    {
      "cell_type": "code",
      "metadata": {
        "button": false,
        "deletable": true,
        "new_sheet": false,
        "run_control": {
          "read_only": false
        },
        "id": "Vf0L99lPTlxj",
        "colab_type": "code",
        "colab": {
          "base_uri": "https://localhost:8080/",
          "height": 136
        },
        "outputId": "1a231a9e-e8d3-4bc2-d217-be0cd4dd3b32"
      },
      "source": [
        "tf.gradients(cost, tvars)"
      ],
      "execution_count": 41,
      "outputs": [
        {
          "output_type": "execute_result",
          "data": {
            "text/plain": [
              "[<tensorflow.python.framework.indexed_slices.IndexedSlices at 0x7f064a153f28>,\n",
              " <tf.Tensor 'gradients_2/rnn/while/rnn/multi_rnn_cell/cell_0/basic_lstm_cell/MatMul/Enter_grad/b_acc_3:0' shape=(456, 1024) dtype=float32>,\n",
              " <tf.Tensor 'gradients_2/rnn/while/rnn/multi_rnn_cell/cell_0/basic_lstm_cell/BiasAdd/Enter_grad/b_acc_3:0' shape=(1024,) dtype=float32>,\n",
              " <tf.Tensor 'gradients_2/rnn/while/rnn/multi_rnn_cell/cell_1/basic_lstm_cell/MatMul/Enter_grad/b_acc_3:0' shape=(384, 512) dtype=float32>,\n",
              " <tf.Tensor 'gradients_2/rnn/while/rnn/multi_rnn_cell/cell_1/basic_lstm_cell/BiasAdd/Enter_grad/b_acc_3:0' shape=(512,) dtype=float32>,\n",
              " <tf.Tensor 'gradients_2/MatMul_grad/MatMul_1:0' shape=(128, 10000) dtype=float32>,\n",
              " <tf.Tensor 'gradients_2/add_grad/Reshape:0' shape=(10000,) dtype=float32>]"
            ]
          },
          "metadata": {
            "tags": []
          },
          "execution_count": 41
        }
      ]
    },
    {
      "cell_type": "code",
      "metadata": {
        "button": false,
        "deletable": true,
        "new_sheet": false,
        "run_control": {
          "read_only": false
        },
        "scrolled": true,
        "id": "a1D94-PFTlxm",
        "colab_type": "code",
        "colab": {}
      },
      "source": [
        "grad_t_list = tf.gradients(cost, tvars)\n",
        "#sess.run(grad_t_list,feed_dict)"
      ],
      "execution_count": 42,
      "outputs": []
    },
    {
      "cell_type": "markdown",
      "metadata": {
        "button": false,
        "deletable": true,
        "new_sheet": false,
        "run_control": {
          "read_only": false
        },
        "id": "vS0Bv00-Tlxp",
        "colab_type": "text"
      },
      "source": [
        "\n",
        "\n",
        "\n",
        "now, we have a list of tensors, t-list. We can use it to find clipped tensors. <b>clip_by_global_norm</b> clips values of multiple tensors by the ratio of the sum of their norms.\n",
        "\n",
        "<b>clip_by_global_norm</b> get <i>t-list</i> as input and returns 2 things:\n",
        "<ul>\n",
        "    <li>a list of clipped tensors, so called <i>list_clipped</i></li> \n",
        "    <li>the global norm (global_norm) of all tensors in t_list</li> \n",
        "</ul>"
      ]
    },
    {
      "cell_type": "code",
      "metadata": {
        "button": false,
        "deletable": true,
        "new_sheet": false,
        "run_control": {
          "read_only": false
        },
        "id": "Ng-qAHWOTlxq",
        "colab_type": "code",
        "colab": {
          "base_uri": "https://localhost:8080/",
          "height": 187
        },
        "outputId": "5fa85b10-6aa7-4323-81e4-5ae915ef25ea"
      },
      "source": [
        "# Define the gradient clipping threshold\n",
        "grads, _ = tf.clip_by_global_norm(grad_t_list, max_grad_norm)\n",
        "grads"
      ],
      "execution_count": 43,
      "outputs": [
        {
          "output_type": "stream",
          "text": [
            "WARNING:tensorflow:From /tensorflow-1.15.2/python3.6/tensorflow_core/python/ops/clip_ops.py:301: where (from tensorflow.python.ops.array_ops) is deprecated and will be removed in a future version.\n",
            "Instructions for updating:\n",
            "Use tf.where in 2.0, which has the same broadcast rule as np.where\n"
          ],
          "name": "stdout"
        },
        {
          "output_type": "execute_result",
          "data": {
            "text/plain": [
              "[<tensorflow.python.framework.indexed_slices.IndexedSlices at 0x7f064a10e6d8>,\n",
              " <tf.Tensor 'clip_by_global_norm/clip_by_global_norm/_1:0' shape=(456, 1024) dtype=float32>,\n",
              " <tf.Tensor 'clip_by_global_norm/clip_by_global_norm/_2:0' shape=(1024,) dtype=float32>,\n",
              " <tf.Tensor 'clip_by_global_norm/clip_by_global_norm/_3:0' shape=(384, 512) dtype=float32>,\n",
              " <tf.Tensor 'clip_by_global_norm/clip_by_global_norm/_4:0' shape=(512,) dtype=float32>,\n",
              " <tf.Tensor 'clip_by_global_norm/clip_by_global_norm/_5:0' shape=(128, 10000) dtype=float32>,\n",
              " <tf.Tensor 'clip_by_global_norm/clip_by_global_norm/_6:0' shape=(10000,) dtype=float32>]"
            ]
          },
          "metadata": {
            "tags": []
          },
          "execution_count": 43
        }
      ]
    },
    {
      "cell_type": "code",
      "metadata": {
        "button": false,
        "deletable": true,
        "new_sheet": false,
        "run_control": {
          "read_only": false
        },
        "id": "CFQNcLzTTlxw",
        "colab_type": "code",
        "colab": {
          "base_uri": "https://localhost:8080/",
          "height": 1000
        },
        "outputId": "176780b7-9563-47db-be71-c07d58ecb427"
      },
      "source": [
        "session.run(grads, feed_dict)"
      ],
      "execution_count": 44,
      "outputs": [
        {
          "output_type": "execute_result",
          "data": {
            "text/plain": [
              "[IndexedSlicesValue(values=array([[-2.5715099e-06,  2.5600821e-06,  1.2551014e-05, ...,\n",
              "        -2.5923198e-06,  7.4647583e-06, -8.9172372e-06],\n",
              "       [-5.9995659e-06,  2.0856248e-06,  1.3487332e-05, ...,\n",
              "         4.3931936e-06,  2.0022985e-06, -1.3720454e-05],\n",
              "       [-8.2283077e-06,  1.8180508e-07,  1.1000308e-05, ...,\n",
              "         8.2516390e-06, -4.1831872e-06, -1.0828268e-05],\n",
              "       ...,\n",
              "       [-4.6619293e-06, -4.8069005e-06, -1.1499861e-05, ...,\n",
              "        -1.1539993e-05, -2.1610367e-06, -1.2810251e-05],\n",
              "       [ 9.5576854e-07, -1.0196520e-06, -1.5833908e-06, ...,\n",
              "        -1.0397134e-05, -7.7441600e-06, -1.1225018e-06],\n",
              "       [-3.4036386e-06, -1.1902530e-06, -2.4406431e-06, ...,\n",
              "        -6.7817427e-06, -3.9540419e-06,  4.6413399e-07]], dtype=float32), indices=array([9970, 9971, 9972, ..., 2043,   23,    1], dtype=int32), dense_shape=array([10000,   200], dtype=int32)),\n",
              " array([[-3.0398908e-08,  3.9918120e-08,  2.5259395e-10, ...,\n",
              "         -5.4845753e-08, -1.6468643e-08,  1.7803627e-08],\n",
              "        [-1.2842511e-09,  3.5788915e-08,  5.8862515e-09, ...,\n",
              "         -1.7339373e-08,  8.0275280e-09,  2.7725182e-08],\n",
              "        [-2.9235489e-08, -4.4870130e-09,  7.1727246e-09, ...,\n",
              "         -3.2484071e-08, -6.7301404e-09, -8.1394607e-09],\n",
              "        ...,\n",
              "        [-4.3440558e-09,  3.2127028e-09,  4.4774144e-09, ...,\n",
              "         -1.3390677e-08, -3.4363284e-10,  2.7018936e-09],\n",
              "        [-4.8943756e-09, -3.3264882e-09,  3.4859222e-09, ...,\n",
              "         -4.2272590e-09,  1.4252455e-09,  5.2212501e-09],\n",
              "        [ 1.9542490e-10, -1.4960047e-10,  3.4664120e-09, ...,\n",
              "          8.2463947e-10,  1.1804698e-09,  2.2167179e-09]], dtype=float32),\n",
              " array([-6.9852877e-07, -1.1220278e-06, -1.2305479e-06, ...,\n",
              "        -2.6217112e-06, -1.5935365e-06,  5.6967463e-07], dtype=float32),\n",
              " array([[ 2.7399460e-10,  1.8508469e-09,  8.6533891e-09, ...,\n",
              "          3.8694314e-09,  7.6133899e-09, -8.4044798e-09],\n",
              "        [ 3.4983956e-09,  9.5351926e-10, -2.3955042e-09, ...,\n",
              "          4.1653294e-09, -2.4239268e-09, -4.1445114e-09],\n",
              "        [-2.5076927e-08, -5.7535763e-09, -1.4175028e-08, ...,\n",
              "         -8.9716838e-09,  1.5496159e-08,  9.4701429e-09],\n",
              "        ...,\n",
              "        [ 3.0782108e-09,  7.2204565e-10,  2.0691935e-09, ...,\n",
              "          3.6079979e-09, -4.8148346e-10, -3.5069949e-09],\n",
              "        [-5.1759192e-09,  1.1140409e-09, -4.8453264e-10, ...,\n",
              "         -1.5627883e-09,  6.2075265e-09, -1.2165098e-09],\n",
              "        [ 2.6090521e-09,  4.5999909e-10,  2.2028210e-09, ...,\n",
              "         -1.6951074e-09,  1.0204301e-09, -7.0510925e-10]], dtype=float32),\n",
              " array([ 1.13609049e-05, -1.43505395e-06,  1.31491413e-06, -4.33557216e-06,\n",
              "        -1.67264182e-06, -8.26772521e-06, -1.45035915e-06, -4.84359225e-06,\n",
              "        -2.70819874e-06,  1.72348990e-07,  4.83706845e-06, -1.67436156e-06,\n",
              "         9.24784217e-06,  4.58294289e-06,  6.25596658e-06, -5.16717819e-06,\n",
              "         2.07280073e-06, -6.65898142e-07,  2.60804632e-06,  1.36052870e-06,\n",
              "         1.18388914e-06,  9.89714636e-07, -5.69793087e-07, -1.22988477e-05,\n",
              "        -4.94214601e-06, -2.45476235e-06,  1.12193732e-07,  4.24227665e-06,\n",
              "         2.04328785e-06,  2.82665724e-06, -1.45801459e-06, -6.67283643e-07,\n",
              "         2.84498327e-07, -2.70559963e-06, -1.60030038e-06, -1.80864129e-06,\n",
              "        -2.38733287e-06,  1.13713463e-06, -1.93889377e-06, -6.16352963e-06,\n",
              "         2.06864866e-06,  1.81493988e-07,  4.85798068e-08, -1.84244664e-06,\n",
              "         5.01503621e-07, -7.60761941e-06, -5.24679876e-07, -2.65051767e-06,\n",
              "        -2.92209438e-06,  6.84838687e-06,  4.55890495e-06,  1.17617424e-06,\n",
              "        -3.18119214e-06, -2.94116649e-06, -1.01527587e-06,  7.80756011e-07,\n",
              "         1.25794452e-06, -1.91187178e-06, -4.78462971e-06,  6.66270398e-06,\n",
              "         3.43201646e-06,  7.35394133e-06,  2.88549654e-06, -4.05403671e-06,\n",
              "         3.35541927e-07,  8.29342298e-06, -8.54985774e-06, -3.96324867e-06,\n",
              "        -3.26158579e-06,  2.47980370e-06, -1.15348053e-06, -3.46617048e-06,\n",
              "         2.98450982e-06,  1.55279179e-06, -4.39086477e-07,  5.32862987e-06,\n",
              "         6.27337067e-06,  5.93413915e-07,  1.70288251e-06,  1.15709363e-05,\n",
              "        -4.48850733e-06,  7.24981874e-07,  4.70215082e-06,  1.50144899e-06,\n",
              "         2.08472943e-06,  3.49506445e-06, -2.51591672e-07, -9.84196595e-06,\n",
              "        -2.28012846e-06, -2.75606249e-06,  6.39855784e-07,  2.59920830e-06,\n",
              "         5.79393600e-06, -1.86212810e-06,  2.27407043e-07, -1.79406697e-06,\n",
              "        -3.28140754e-06, -5.81379527e-06, -5.07323330e-06,  4.05682385e-06,\n",
              "         4.29202646e-06, -3.22881988e-07, -1.72581986e-06, -2.78050379e-06,\n",
              "        -4.21073582e-06,  5.35212212e-06,  5.50848517e-06, -3.53641735e-06,\n",
              "        -3.99653891e-06, -4.76520836e-06, -2.40148347e-06,  1.12334544e-06,\n",
              "         4.81993584e-06, -1.84247006e-06,  2.04273121e-07, -2.61675893e-07,\n",
              "         7.52236701e-06, -1.73985200e-06, -1.45951765e-06,  4.22750009e-06,\n",
              "         2.46428090e-06, -5.02330204e-06,  1.02225511e-06, -4.00934567e-07,\n",
              "        -8.80933783e-07,  4.24526752e-06, -4.95834274e-06, -3.88121907e-06,\n",
              "        -2.23833397e-02,  2.16494268e-03,  1.70583883e-03,  7.28801452e-03,\n",
              "         1.04123047e-02, -2.86062639e-02, -3.43212672e-03, -2.50148419e-02,\n",
              "         5.76360151e-03,  4.93307132e-04,  1.13616781e-02,  1.42250396e-03,\n",
              "        -1.82371028e-02, -2.72684339e-02, -3.19648758e-02, -1.13642924e-02,\n",
              "        -5.95991313e-03,  8.04192759e-03,  2.71300152e-02, -1.32916672e-02,\n",
              "        -1.13060642e-02, -1.11902528e-03,  1.69571992e-02,  2.96618566e-02,\n",
              "         1.99914053e-02,  7.77282845e-03, -9.12148505e-03,  1.15291569e-02,\n",
              "         2.76106340e-03, -1.87059883e-02,  1.30646965e-02,  2.37501413e-03,\n",
              "        -4.20899317e-03, -9.82944015e-03, -1.16456617e-02,  3.31859896e-03,\n",
              "        -3.27731459e-03, -3.14542232e-03, -2.70227753e-02, -1.81377865e-02,\n",
              "        -2.97240214e-03, -1.02756266e-02, -1.33446511e-03, -2.59299413e-04,\n",
              "         2.49292310e-02, -2.32935864e-02, -4.60473215e-03, -2.62069376e-03,\n",
              "        -1.61875710e-02,  1.55365299e-02, -4.16590739e-03,  1.54182417e-02,\n",
              "         1.28396340e-02,  7.41430046e-03,  1.71934720e-02, -2.33180560e-02,\n",
              "        -1.45748975e-02,  2.99459584e-02,  6.81388751e-03,  2.23733522e-02,\n",
              "        -1.66518334e-03,  3.30589861e-02, -1.59887709e-02, -7.07812700e-03,\n",
              "         1.09863542e-02, -1.37958620e-02, -1.95213240e-02, -1.98799614e-02,\n",
              "        -1.21056121e-02,  3.82362655e-03,  1.98131446e-02,  7.09987292e-03,\n",
              "        -1.80772226e-02, -7.39073055e-03, -1.15656825e-02, -2.14036312e-02,\n",
              "        -3.54767069e-02, -1.13054877e-02,  3.01089324e-02, -2.78243516e-02,\n",
              "         1.04555292e-02,  3.99311632e-03,  6.14435785e-03, -1.90329063e-03,\n",
              "         1.28924828e-02, -1.18918708e-02, -8.84515606e-03, -1.43657997e-02,\n",
              "         5.95555292e-04, -1.21899601e-02,  4.42832243e-04,  1.96018741e-02,\n",
              "         2.06594486e-02, -5.34883002e-04,  3.78085440e-03, -1.54029774e-02,\n",
              "        -1.08202128e-02,  3.02099716e-02,  1.17817596e-02, -1.74238645e-02,\n",
              "        -9.20702145e-03,  2.46970030e-03, -9.49030183e-03,  1.17826359e-02,\n",
              "        -1.18801100e-02, -3.94414477e-02, -9.73639172e-03, -1.17166284e-02,\n",
              "         1.78556866e-03,  1.08023491e-02,  1.83175039e-03, -2.73868181e-02,\n",
              "        -2.26885825e-02, -9.97110270e-03,  1.79924872e-02, -5.47870062e-03,\n",
              "         2.76105907e-02, -1.62129086e-02, -2.87108254e-02,  3.28215724e-03,\n",
              "        -7.53335096e-03,  2.84784008e-02,  3.12398765e-02,  2.48682452e-03,\n",
              "         3.87292751e-03,  1.00856237e-02,  1.87457409e-02, -3.49140679e-03,\n",
              "         8.26995893e-06, -2.25220083e-06, -1.39161477e-06, -5.47464106e-06,\n",
              "        -1.11242275e-06, -4.81867983e-06, -1.29816112e-06, -3.83508223e-06,\n",
              "        -1.12223438e-06, -2.57806505e-06,  2.99623730e-06, -1.61858190e-06,\n",
              "         8.37123207e-06,  6.63413175e-06,  6.41682982e-06, -2.17209117e-06,\n",
              "         1.72085220e-06, -1.70796932e-06,  1.93945607e-06, -2.92475590e-07,\n",
              "        -8.24563699e-07,  3.46784464e-06,  1.42046383e-06, -1.13565939e-05,\n",
              "        -3.69190025e-06, -1.10794338e-06,  5.08386108e-07,  2.25170993e-06,\n",
              "         3.37660731e-06,  6.38044753e-07, -2.73693354e-06,  1.06244795e-06,\n",
              "         6.50356071e-08, -2.83844656e-06, -7.23497692e-07,  2.41110251e-06,\n",
              "        -1.27804913e-06,  2.39961150e-06, -3.00148827e-06, -4.36137452e-06,\n",
              "         2.18853387e-07,  2.57105467e-06,  2.41013663e-06, -1.64322933e-06,\n",
              "        -1.06841276e-06, -7.39962752e-06, -8.78536355e-07, -2.30186401e-06,\n",
              "        -3.92236143e-06,  7.79275433e-06,  3.41947703e-06,  7.24538836e-07,\n",
              "        -1.10878113e-06, -2.28896124e-06,  3.11026213e-07,  3.54080885e-06,\n",
              "        -4.69826148e-07, -3.69290524e-06, -2.34169056e-06,  2.87807234e-06,\n",
              "         1.87603871e-06,  6.52623612e-06,  5.22558184e-06, -1.93648111e-06,\n",
              "         1.28976623e-07,  5.35264144e-06, -4.00569934e-06, -2.46261720e-06,\n",
              "        -5.78346771e-07,  1.74477793e-06, -4.42948902e-07, -2.03745230e-06,\n",
              "         5.81809104e-07, -1.29648731e-06, -1.54489635e-06,  1.76740207e-06,\n",
              "         7.30379179e-06, -3.16619605e-07,  4.03607345e-07,  7.70608676e-06,\n",
              "         1.06806567e-06, -9.51497213e-07,  1.06413495e-06,  9.33128945e-07,\n",
              "         4.90275340e-07,  3.97471786e-06,  1.01154251e-06, -4.27332679e-06,\n",
              "        -7.62814864e-07, -3.31113279e-06,  4.01374677e-07, -9.90972211e-08,\n",
              "         6.23477536e-06, -1.64807159e-06,  1.61241178e-06, -1.50762639e-06,\n",
              "         5.21515574e-07, -4.81546567e-06, -3.80310212e-06,  4.28764042e-06,\n",
              "         6.39784093e-06, -2.16582066e-06, -1.25978124e-06, -1.61310652e-06,\n",
              "        -3.70953489e-06,  2.48401921e-06,  3.49142329e-06, -6.30735258e-06,\n",
              "        -2.51953406e-06,  7.38469055e-07, -6.45019270e-07,  3.69221902e-06,\n",
              "         5.33439834e-06, -2.01323843e-07, -5.68984149e-08,  1.20454206e-06,\n",
              "         4.27061332e-06,  3.04676121e-07,  1.53185613e-06,  1.48635490e-06,\n",
              "         2.81351248e-07, -5.67406005e-06, -2.80827877e-08, -1.43538011e-06,\n",
              "         3.28269016e-06,  2.41671682e-06, -4.87352463e-06, -5.86678254e-07,\n",
              "         1.13509623e-05, -1.43511113e-06,  1.32049786e-06, -4.33179548e-06,\n",
              "        -1.67299504e-06, -8.27217718e-06, -1.45292290e-06, -4.83841859e-06,\n",
              "        -2.71456702e-06,  1.70230180e-07,  4.83711347e-06, -1.67847463e-06,\n",
              "         9.25422682e-06,  4.58251543e-06,  6.26383599e-06, -5.16749924e-06,\n",
              "         2.07378412e-06, -6.63844446e-07,  2.61251262e-06,  1.36468748e-06,\n",
              "         1.18386242e-06,  9.91101842e-07, -5.76453772e-07, -1.22972106e-05,\n",
              "        -4.94013921e-06, -2.45592787e-06,  1.13943472e-07,  4.24193422e-06,\n",
              "         2.04338176e-06,  2.82499946e-06, -1.45190950e-06, -6.66678034e-07,\n",
              "         2.86858750e-07, -2.71065210e-06, -1.59925366e-06, -1.80700090e-06,\n",
              "        -2.38625216e-06,  1.13921737e-06, -1.94487188e-06, -6.16017223e-06,\n",
              "         2.06745312e-06,  1.81134396e-07,  4.09619219e-08, -1.84867281e-06,\n",
              "         4.98952488e-07, -7.60705689e-06, -5.27624422e-07, -2.65509971e-06,\n",
              "        -2.92054460e-06,  6.84536099e-06,  4.55972622e-06,  1.18035553e-06,\n",
              "        -3.17535660e-06, -2.94145411e-06, -1.01571254e-06,  7.82858876e-07,\n",
              "         1.25471774e-06, -1.91031836e-06, -4.78293759e-06,  6.65821426e-06,\n",
              "         3.43217425e-06,  7.34354489e-06,  2.88447154e-06, -4.05270293e-06,\n",
              "         3.33734988e-07,  8.29880264e-06, -8.54904192e-06, -3.96322775e-06,\n",
              "        -3.26685358e-06,  2.48400920e-06, -1.15554815e-06, -3.46115667e-06,\n",
              "         2.98219084e-06,  1.55491205e-06, -4.38767387e-07,  5.32476042e-06,\n",
              "         6.27415784e-06,  5.94467338e-07,  1.70223768e-06,  1.15740795e-05,\n",
              "        -4.49315121e-06,  7.29157819e-07,  4.70048008e-06,  1.50037647e-06,\n",
              "         2.08693723e-06,  3.49975517e-06, -2.52898133e-07, -9.84323196e-06,\n",
              "        -2.28099429e-06, -2.75767297e-06,  6.39345956e-07,  2.60090110e-06,\n",
              "         5.78927620e-06, -1.86604711e-06,  2.27457662e-07, -1.78861808e-06,\n",
              "        -3.28041688e-06, -5.81474751e-06, -5.07429968e-06,  4.05201172e-06,\n",
              "         4.28935027e-06, -3.17312981e-07, -1.72689681e-06, -2.77874528e-06,\n",
              "        -4.21174309e-06,  5.34913397e-06,  5.50613777e-06, -3.53427276e-06,\n",
              "        -3.99936516e-06, -4.76862851e-06, -2.39395717e-06,  1.12171028e-06,\n",
              "         4.81779216e-06, -1.84155351e-06,  2.04714070e-07, -2.59255813e-07,\n",
              "         7.51991865e-06, -1.73313242e-06, -1.45479771e-06,  4.22522908e-06,\n",
              "         2.46249419e-06, -5.01754766e-06,  1.02428135e-06, -3.97391034e-07,\n",
              "        -8.79343418e-07,  4.24396330e-06, -4.96057646e-06, -3.88124772e-06],\n",
              "       dtype=float32),\n",
              " array([[ 1.06367894e-04,  4.02600388e-04,  3.29800241e-04, ...,\n",
              "         -4.50727185e-07, -4.45422785e-07, -4.41032228e-07],\n",
              "        [-3.39295257e-05,  4.67117825e-05,  2.40459631e-05, ...,\n",
              "          3.43778375e-08,  3.39776172e-08,  3.36475487e-08],\n",
              "        [ 9.76448355e-05,  1.76822316e-04,  1.16573065e-04, ...,\n",
              "         -1.58922631e-07, -1.57067404e-07, -1.55500132e-07],\n",
              "        ...,\n",
              "        [-1.91080850e-04, -1.87850703e-04, -1.23018617e-04, ...,\n",
              "          3.03504635e-07,  2.99944759e-07,  2.96943597e-07],\n",
              "        [ 1.17936826e-04,  2.08395257e-04,  1.92155348e-04, ...,\n",
              "         -2.85620672e-07, -2.82301585e-07, -2.79485135e-07],\n",
              "        [-5.42846246e-05,  5.29542449e-05,  5.16652472e-05, ...,\n",
              "         -1.38160715e-07, -1.36552316e-07, -1.35177572e-07]], dtype=float32),\n",
              " array([-0.78131235, -1.097996  , -0.9813488 , ...,  0.00202063,\n",
              "         0.00199689,  0.00197715], dtype=float32)]"
            ]
          },
          "metadata": {
            "tags": []
          },
          "execution_count": 44
        }
      ]
    },
    {
      "cell_type": "markdown",
      "metadata": {
        "button": false,
        "deletable": true,
        "new_sheet": false,
        "run_control": {
          "read_only": false
        },
        "id": "hpQKeHJQTlxz",
        "colab_type": "text"
      },
      "source": [
        "<h4>4. Apply the optimizer to the variables / gradients tuple.</h4>"
      ]
    },
    {
      "cell_type": "code",
      "metadata": {
        "button": false,
        "deletable": true,
        "new_sheet": false,
        "run_control": {
          "read_only": false
        },
        "id": "GyjVTjZaTlx0",
        "colab_type": "code",
        "colab": {}
      },
      "source": [
        "# Create the training TensorFlow Operation through our optimizer\n",
        "train_op = optimizer.apply_gradients(zip(grads, tvars))"
      ],
      "execution_count": 45,
      "outputs": []
    },
    {
      "cell_type": "code",
      "metadata": {
        "button": false,
        "deletable": true,
        "new_sheet": false,
        "run_control": {
          "read_only": false
        },
        "id": "DCNh6KZqTlx1",
        "colab_type": "code",
        "colab": {}
      },
      "source": [
        "session.run(tf.global_variables_initializer())\n",
        "session.run(train_op, feed_dict)"
      ],
      "execution_count": 46,
      "outputs": []
    },
    {
      "cell_type": "markdown",
      "metadata": {
        "id": "qsxlawKtTlx3",
        "colab_type": "text"
      },
      "source": [
        "<a id=\"ltsm\"></a>\n",
        "<h2>LSTM</h2>"
      ]
    },
    {
      "cell_type": "markdown",
      "metadata": {
        "button": false,
        "deletable": true,
        "new_sheet": false,
        "run_control": {
          "read_only": false
        },
        "id": "t6akwaHQTlx4",
        "colab_type": "text"
      },
      "source": [
        "We learned how the model is build step by step. Noe, let's then create a Class that represents our model. This class needs a few things:\n",
        "<ul>\n",
        "    <li>We have to create the model in accordance with our defined hyperparameters</li>\n",
        "    <li>We have to create the placeholders for our input data and expected outputs (the real data)</li>\n",
        "    <li>We have to create the LSTM cell structure and connect them with our RNN structure</li>\n",
        "    <li>We have to create the word embeddings and point them to the input data</li>\n",
        "    <li>We have to create the input structure for our RNN</li>\n",
        "    <li>We have to instantiate our RNN model and retrieve the variable in which we should expect our outputs to appear</li>\n",
        "    <li>We need to create a logistic structure to return the probability of our words</li>\n",
        "    <li>We need to create the loss and cost functions for our optimizer to work, and then create the optimizer</li>\n",
        "    <li>And finally, we need to create a training operation that can be run to actually train our model</li>\n",
        "</ul>"
      ]
    },
    {
      "cell_type": "code",
      "metadata": {
        "id": "XkB7uZL1Tlx4",
        "colab_type": "code",
        "colab": {
          "base_uri": "https://localhost:8080/",
          "height": 34
        },
        "outputId": "574ee327-963a-4780-c348-fce747251dad"
      },
      "source": [
        "hidden_size_l1"
      ],
      "execution_count": 47,
      "outputs": [
        {
          "output_type": "execute_result",
          "data": {
            "text/plain": [
              "256"
            ]
          },
          "metadata": {
            "tags": []
          },
          "execution_count": 47
        }
      ]
    },
    {
      "cell_type": "code",
      "metadata": {
        "button": false,
        "deletable": true,
        "new_sheet": false,
        "run_control": {
          "read_only": false
        },
        "id": "FWqEYQddTlx8",
        "colab_type": "code",
        "colab": {}
      },
      "source": [
        "class PTBModel(object):\n",
        "\n",
        "    def __init__(self, action_type):\n",
        "        ######################################\n",
        "        # Setting parameters for ease of use #\n",
        "        ######################################\n",
        "        self.batch_size = batch_size\n",
        "        self.num_steps = num_steps\n",
        "        self.hidden_size_l1 = hidden_size_l1\n",
        "        self.hidden_size_l2 = hidden_size_l2\n",
        "        self.vocab_size = vocab_size\n",
        "        self.embeding_vector_size = embeding_vector_size\n",
        "        ###############################################################################\n",
        "        # Creating placeholders for our input data and expected outputs (target data) #\n",
        "        ###############################################################################\n",
        "        self._input_data = tf.placeholder(tf.int32, [batch_size, num_steps]) #[30#20]\n",
        "        self._targets = tf.placeholder(tf.int32, [batch_size, num_steps]) #[30#20]\n",
        "\n",
        "        ##########################################################################\n",
        "        # Creating the LSTM cell structure and connect it with the RNN structure #\n",
        "        ##########################################################################\n",
        "        # Create the LSTM unit. \n",
        "        # This creates only the structure for the LSTM and has to be associated with a RNN unit still.\n",
        "        # The argument n_hidden(size=200) of BasicLSTMCell is size of hidden layer, that is, the number of hidden units of the LSTM (inside A).\n",
        "        # Size is the same as the size of our hidden layer, and no bias is added to the Forget Gate. \n",
        "        # LSTM cell processes one word at a time and computes probabilities of the possible continuations of the sentence.\n",
        "        lstm_cell_l1 = tf.contrib.rnn.BasicLSTMCell(self.hidden_size_l1, forget_bias=0.0)\n",
        "        lstm_cell_l2 = tf.contrib.rnn.BasicLSTMCell(self.hidden_size_l2, forget_bias=0.0)\n",
        "        \n",
        "        # Unless you changed keep_prob, this won't actually execute -- this is a dropout wrapper for our LSTM unit\n",
        "        # This is an optimization of the LSTM output, but is not needed at all\n",
        "        if action_type == \"is_training\" and keep_prob < 1:\n",
        "            lstm_cell_l1 = tf.contrib.rnn.DropoutWrapper(lstm_cell_l1, output_keep_prob=keep_prob)\n",
        "            lstm_cell_l2 = tf.contrib.rnn.DropoutWrapper(lstm_cell_l2, output_keep_prob=keep_prob)\n",
        "        \n",
        "        # By taking in the LSTM cells as parameters, the MultiRNNCell function junctions the LSTM units to the RNN units.\n",
        "        # RNN cell composed sequentially of multiple simple cells.\n",
        "        stacked_lstm = tf.contrib.rnn.MultiRNNCell([lstm_cell_l1, lstm_cell_l2])\n",
        "\n",
        "        # Define the initial state, i.e., the model state for the very first data point\n",
        "        # It initialize the state of the LSTM memory. The memory state of the network is initialized with a vector of zeros and gets updated after reading each word.\n",
        "        self._initial_state = stacked_lstm.zero_state(batch_size, tf.float32)\n",
        "\n",
        "        ####################################################################\n",
        "        # Creating the word embeddings and pointing them to the input data #\n",
        "        ####################################################################\n",
        "        with tf.device(\"/cpu:0\"):\n",
        "            # Create the embeddings for our input data. Size is hidden size.\n",
        "            embedding = tf.get_variable(\"embedding\", [vocab_size, self.embeding_vector_size])  #[10000x200]\n",
        "            # Define where to get the data for our embeddings from\n",
        "            inputs = tf.nn.embedding_lookup(embedding, self._input_data)\n",
        "\n",
        "        # Unless you changed keep_prob, this won't actually execute -- this is a dropout addition for our inputs\n",
        "        # This is an optimization of the input processing and is not needed at all\n",
        "        if action_type == \"is_training\" and keep_prob < 1:\n",
        "            inputs = tf.nn.dropout(inputs, keep_prob)\n",
        "\n",
        "        ############################################\n",
        "        # Creating the input structure for our RNN #\n",
        "        ############################################\n",
        "        # Input structure is 20x[30x200]\n",
        "        # Considering each word is represended by a 200 dimentional vector, and we have 30 batchs, we create 30 word-vectors of size [30xx2000]\n",
        "        # inputs = [tf.squeeze(input_, [1]) for input_ in tf.split(1, num_steps, inputs)]\n",
        "        # The input structure is fed from the embeddings, which are filled in by the input data\n",
        "        # Feeding a batch of b sentences to a RNN:\n",
        "        # In step 1,  first word of each of the b sentences (in a batch) is input in parallel.  \n",
        "        # In step 2,  second word of each of the b sentences is input in parallel. \n",
        "        # The parallelism is only for efficiency.  \n",
        "        # Each sentence in a batch is handled in parallel, but the network sees one word of a sentence at a time and does the computations accordingly. \n",
        "        # All the computations involving the words of all sentences in a batch at a given time step are done in parallel. \n",
        "\n",
        "        ####################################################################################################\n",
        "        # Instantiating our RNN model and retrieving the structure for returning the outputs and the state #\n",
        "        ####################################################################################################\n",
        "        \n",
        "        outputs, state = tf.nn.dynamic_rnn(stacked_lstm, inputs, initial_state=self._initial_state)\n",
        "        #########################################################################\n",
        "        # Creating a logistic unit to return the probability of the output word #\n",
        "        #########################################################################\n",
        "        output = tf.reshape(outputs, [-1, self.hidden_size_l2])\n",
        "        softmax_w = tf.get_variable(\"softmax_w\", [self.hidden_size_l2, vocab_size]) #[200x1000]\n",
        "        softmax_b = tf.get_variable(\"softmax_b\", [vocab_size]) #[1x1000]\n",
        "        logits = tf.matmul(output, softmax_w) + softmax_b\n",
        "        logits = tf.reshape(logits, [self.batch_size, self.num_steps, vocab_size])\n",
        "        prob = tf.nn.softmax(logits)\n",
        "        out_words = tf.argmax(prob, axis=2)\n",
        "        self._output_words = out_words\n",
        "        #########################################################################\n",
        "        # Defining the loss and cost functions for the model's learning to work #\n",
        "        #########################################################################\n",
        "            \n",
        "\n",
        "        # Use the contrib sequence loss and average over the batches\n",
        "        loss = tf.contrib.seq2seq.sequence_loss(\n",
        "            logits,\n",
        "            self.targets,\n",
        "            tf.ones([batch_size, num_steps], dtype=tf.float32),\n",
        "            average_across_timesteps=False,\n",
        "            average_across_batch=True)\n",
        "    \n",
        "#         loss = tf.contrib.legacy_seq2seq.sequence_loss_by_example([logits], [tf.reshape(self._targets, [-1])],\n",
        "#                                                       [tf.ones([batch_size * num_steps])])\n",
        "        self._cost = tf.reduce_sum(loss)\n",
        "\n",
        "        # Store the final state\n",
        "        self._final_state = state\n",
        "\n",
        "        #Everything after this point is relevant only for training\n",
        "        if action_type != \"is_training\":\n",
        "            return\n",
        "\n",
        "        #################################################\n",
        "        # Creating the Training Operation for our Model #\n",
        "        #################################################\n",
        "        # Create a variable for the learning rate\n",
        "        self._lr = tf.Variable(0.0, trainable=False)\n",
        "        # Get all TensorFlow variables marked as \"trainable\" (i.e. all of them except _lr, which we just created)\n",
        "        tvars = tf.trainable_variables()\n",
        "        # Define the gradient clipping threshold\n",
        "        grads, _ = tf.clip_by_global_norm(tf.gradients(self._cost, tvars), max_grad_norm)\n",
        "        # Create the gradient descent optimizer with our learning rate\n",
        "        optimizer = tf.train.GradientDescentOptimizer(self.lr)\n",
        "        # Create the training TensorFlow Operation through our optimizer\n",
        "        self._train_op = optimizer.apply_gradients(zip(grads, tvars))\n",
        "\n",
        "    # Helper functions for our LSTM RNN class\n",
        "\n",
        "    # Assign the learning rate for this model\n",
        "    def assign_lr(self, session, lr_value):\n",
        "        session.run(tf.assign(self.lr, lr_value))\n",
        "\n",
        "    # Returns the input data for this model at a point in time\n",
        "    @property\n",
        "    def input_data(self):\n",
        "        return self._input_data\n",
        "\n",
        "\n",
        "    \n",
        "    # Returns the targets for this model at a point in time\n",
        "    @property\n",
        "    def targets(self):\n",
        "        return self._targets\n",
        "\n",
        "    # Returns the initial state for this model\n",
        "    @property\n",
        "    def initial_state(self):\n",
        "        return self._initial_state\n",
        "\n",
        "    # Returns the defined Cost\n",
        "    @property\n",
        "    def cost(self):\n",
        "        return self._cost\n",
        "\n",
        "    # Returns the final state for this model\n",
        "    @property\n",
        "    def final_state(self):\n",
        "        return self._final_state\n",
        "    \n",
        "    # Returns the final output words for this model\n",
        "    @property\n",
        "    def final_output_words(self):\n",
        "        return self._output_words\n",
        "    \n",
        "    # Returns the current learning rate for this model\n",
        "    @property\n",
        "    def lr(self):\n",
        "        return self._lr\n",
        "\n",
        "    # Returns the training operation defined for this model\n",
        "    @property\n",
        "    def train_op(self):\n",
        "        return self._train_op"
      ],
      "execution_count": 48,
      "outputs": []
    },
    {
      "cell_type": "markdown",
      "metadata": {
        "button": false,
        "deletable": true,
        "new_sheet": false,
        "run_control": {
          "read_only": false
        },
        "id": "gZAguhrsTlx-",
        "colab_type": "text"
      },
      "source": [
        "With that, the actual structure of our Recurrent Neural Network with Long Short-Term Memory is finished. What remains for us to do is to actually create the methods to run through time -- that is, the <code>run_epoch</code> method to be run at each epoch and a <code>main</code> script which ties all of this together.\n",
        "\n",
        "What our <code>run_epoch</code> method should do is take our input data and feed it to the relevant operations. This will return at the very least the current result for the cost function."
      ]
    },
    {
      "cell_type": "code",
      "metadata": {
        "button": false,
        "deletable": true,
        "new_sheet": false,
        "run_control": {
          "read_only": false
        },
        "id": "v12y6CCvTlx_",
        "colab_type": "code",
        "colab": {}
      },
      "source": [
        "##########################################################################################################################\n",
        "# run_one_epoch takes as parameters the current session, the model instance, the data to be fed, and the operation to be run #\n",
        "##########################################################################################################################\n",
        "def run_one_epoch(session, m, data, eval_op, verbose=False):\n",
        "\n",
        "    #Define the epoch size based on the length of the data, batch size and the number of steps\n",
        "    epoch_size = ((len(data) // m.batch_size) - 1) // m.num_steps\n",
        "    start_time = time.time()\n",
        "    costs = 0.0\n",
        "    iters = 0\n",
        "\n",
        "    state = session.run(m.initial_state)\n",
        "    \n",
        "    #For each step and data point\n",
        "    for step, (x, y) in enumerate(reader.ptb_iterator(data, m.batch_size, m.num_steps)):\n",
        "        \n",
        "        #Evaluate and return cost, state by running cost, final_state and the function passed as parameter\n",
        "        cost, state, out_words, _ = session.run([m.cost, m.final_state, m.final_output_words, eval_op],\n",
        "                                     {m.input_data: x,\n",
        "                                      m.targets: y,\n",
        "                                      m.initial_state: state})\n",
        "\n",
        "        #Add returned cost to costs (which keeps track of the total costs for this epoch)\n",
        "        costs += cost\n",
        "        \n",
        "        #Add number of steps to iteration counter\n",
        "        iters += m.num_steps\n",
        "\n",
        "        if verbose and step % (epoch_size // 10) == 10:\n",
        "            print(\"Itr %d of %d, perplexity: %.3f speed: %.0f wps\" % (step , epoch_size, np.exp(costs / iters), iters * m.batch_size / (time.time() - start_time)))\n",
        "\n",
        "    # Returns the Perplexity rating for us to keep track of how the model is evolving\n",
        "    return np.exp(costs / iters)\n"
      ],
      "execution_count": 49,
      "outputs": []
    },
    {
      "cell_type": "markdown",
      "metadata": {
        "button": false,
        "deletable": true,
        "new_sheet": false,
        "run_control": {
          "read_only": false
        },
        "id": "FdiYha2yTlyB",
        "colab_type": "text"
      },
      "source": [
        "Now, we create the <code>main</code> method to tie everything together. The code here reads the data from the directory, using the <code>reader</code> helper module, and then trains and evaluates the model on both a testing and a validating subset of data."
      ]
    },
    {
      "cell_type": "code",
      "metadata": {
        "button": false,
        "deletable": true,
        "new_sheet": false,
        "run_control": {
          "read_only": false
        },
        "id": "aQCIbqaoTlyB",
        "colab_type": "code",
        "colab": {}
      },
      "source": [
        "# Reads the data and separates it into training data, validation data and testing data\n",
        "raw_data = reader.ptb_raw_data(data_dir)\n",
        "train_data, valid_data, test_data, _, _ = raw_data"
      ],
      "execution_count": 50,
      "outputs": []
    },
    {
      "cell_type": "code",
      "metadata": {
        "button": false,
        "deletable": true,
        "new_sheet": false,
        "run_control": {
          "read_only": false
        },
        "id": "I6kYizb2TlyD",
        "colab_type": "code",
        "colab": {
          "base_uri": "https://localhost:8080/",
          "height": 1000
        },
        "outputId": "3ba23f0f-31a9-41a5-a6e0-8a5841417b53"
      },
      "source": [
        "# Initializes the Execution Graph and the Session\n",
        "with tf.Graph().as_default(), tf.Session() as session:\n",
        "    initializer = tf.random_uniform_initializer(-init_scale, init_scale)\n",
        "    \n",
        "    # Instantiates the model for training\n",
        "    # tf.variable_scope add a prefix to the variables created with tf.get_variable\n",
        "    with tf.variable_scope(\"model\", reuse=None, initializer=initializer):\n",
        "        m = PTBModel(\"is_training\")\n",
        "        \n",
        "    # Reuses the trained parameters for the validation and testing models\n",
        "    # They are different instances but use the same variables for weights and biases, they just don't change when data is input\n",
        "    with tf.variable_scope(\"model\", reuse=True, initializer=initializer):\n",
        "        mvalid = PTBModel(\"is_validating\")\n",
        "        mtest = PTBModel(\"is_testing\")\n",
        "\n",
        "    #Initialize all variables\n",
        "    tf.global_variables_initializer().run()\n",
        "\n",
        "    for i in range(max_epoch):\n",
        "        # Define the decay for this epoch\n",
        "        lr_decay = decay ** max(i - max_epoch_decay_lr, 0.0)\n",
        "        \n",
        "        # Set the decayed learning rate as the learning rate for this epoch\n",
        "        m.assign_lr(session, learning_rate * lr_decay)\n",
        "\n",
        "        print(\"Epoch %d : Learning rate: %.3f\" % (i + 1, session.run(m.lr)))\n",
        "        \n",
        "        # Run the loop for this epoch in the training model\n",
        "        train_perplexity = run_one_epoch(session, m, train_data, m.train_op, verbose=True)\n",
        "        print(\"Epoch %d : Train Perplexity: %.3f\" % (i + 1, train_perplexity))\n",
        "        \n",
        "        # Run the loop for this epoch in the validation model\n",
        "        valid_perplexity = run_one_epoch(session, mvalid, valid_data, tf.no_op())\n",
        "        print(\"Epoch %d : Valid Perplexity: %.3f\" % (i + 1, valid_perplexity))\n",
        "    \n",
        "    # Run the loop in the testing model to see how effective was our training\n",
        "    test_perplexity = run_one_epoch(session, mtest, test_data, tf.no_op())\n",
        "    \n",
        "    print(\"Test Perplexity: %.3f\" % test_perplexity)"
      ],
      "execution_count": 51,
      "outputs": [
        {
          "output_type": "stream",
          "text": [
            "Epoch 1 : Learning rate: 1.000\n",
            "Itr 10 of 774, perplexity: 3886.577 speed: 2360 wps\n",
            "Itr 87 of 774, perplexity: 1267.723 speed: 2433 wps\n",
            "Itr 164 of 774, perplexity: 976.622 speed: 2438 wps\n",
            "Itr 241 of 774, perplexity: 811.891 speed: 2450 wps\n",
            "Itr 318 of 774, perplexity: 719.672 speed: 2456 wps\n",
            "Itr 395 of 774, perplexity: 642.670 speed: 2456 wps\n",
            "Itr 472 of 774, perplexity: 581.819 speed: 2457 wps\n",
            "Itr 549 of 774, perplexity: 528.011 speed: 2454 wps\n",
            "Itr 626 of 774, perplexity: 485.498 speed: 2452 wps\n",
            "Itr 703 of 774, perplexity: 452.003 speed: 2452 wps\n",
            "Epoch 1 : Train Perplexity: 427.807\n",
            "Epoch 1 : Valid Perplexity: 263.534\n",
            "Epoch 2 : Learning rate: 1.000\n",
            "Itr 10 of 774, perplexity: 277.371 speed: 2427 wps\n",
            "Itr 87 of 774, perplexity: 239.025 speed: 2467 wps\n",
            "Itr 164 of 774, perplexity: 228.340 speed: 2470 wps\n",
            "Itr 241 of 774, perplexity: 218.897 speed: 2470 wps\n",
            "Itr 318 of 774, perplexity: 216.283 speed: 2465 wps\n",
            "Itr 395 of 774, perplexity: 210.435 speed: 2459 wps\n",
            "Itr 472 of 774, perplexity: 206.054 speed: 2449 wps\n",
            "Itr 549 of 774, perplexity: 199.403 speed: 2443 wps\n",
            "Itr 626 of 774, perplexity: 193.805 speed: 2440 wps\n",
            "Itr 703 of 774, perplexity: 189.678 speed: 2440 wps\n",
            "Epoch 2 : Train Perplexity: 186.963\n",
            "Epoch 2 : Valid Perplexity: 183.076\n",
            "Epoch 3 : Learning rate: 1.000\n",
            "Itr 10 of 774, perplexity: 187.613 speed: 2422 wps\n",
            "Itr 87 of 774, perplexity: 160.247 speed: 2468 wps\n",
            "Itr 164 of 774, perplexity: 156.196 speed: 2466 wps\n",
            "Itr 241 of 774, perplexity: 151.282 speed: 2464 wps\n",
            "Itr 318 of 774, perplexity: 151.128 speed: 2462 wps\n",
            "Itr 395 of 774, perplexity: 148.424 speed: 2461 wps\n",
            "Itr 472 of 774, perplexity: 146.815 speed: 2462 wps\n",
            "Itr 549 of 774, perplexity: 143.166 speed: 2462 wps\n",
            "Itr 626 of 774, perplexity: 140.302 speed: 2463 wps\n",
            "Itr 703 of 774, perplexity: 138.472 speed: 2463 wps\n",
            "Epoch 3 : Train Perplexity: 137.431\n",
            "Epoch 3 : Valid Perplexity: 151.401\n",
            "Epoch 4 : Learning rate: 1.000\n",
            "Itr 10 of 774, perplexity: 149.429 speed: 2429 wps\n",
            "Itr 87 of 774, perplexity: 127.199 speed: 2464 wps\n",
            "Itr 164 of 774, perplexity: 125.217 speed: 2454 wps\n",
            "Itr 241 of 774, perplexity: 121.882 speed: 2454 wps\n",
            "Itr 318 of 774, perplexity: 122.418 speed: 2456 wps\n",
            "Itr 395 of 774, perplexity: 120.526 speed: 2457 wps\n",
            "Itr 472 of 774, perplexity: 119.679 speed: 2458 wps\n",
            "Itr 549 of 774, perplexity: 116.911 speed: 2456 wps\n",
            "Itr 626 of 774, perplexity: 114.974 speed: 2453 wps\n",
            "Itr 703 of 774, perplexity: 113.867 speed: 2454 wps\n",
            "Epoch 4 : Train Perplexity: 113.334\n",
            "Epoch 4 : Valid Perplexity: 138.877\n",
            "Epoch 5 : Learning rate: 1.000\n",
            "Itr 10 of 774, perplexity: 126.316 speed: 2423 wps\n",
            "Itr 87 of 774, perplexity: 108.108 speed: 2459 wps\n",
            "Itr 164 of 774, perplexity: 106.957 speed: 2462 wps\n",
            "Itr 241 of 774, perplexity: 104.514 speed: 2460 wps\n",
            "Itr 318 of 774, perplexity: 105.231 speed: 2456 wps\n",
            "Itr 395 of 774, perplexity: 103.779 speed: 2456 wps\n",
            "Itr 472 of 774, perplexity: 103.191 speed: 2457 wps\n",
            "Itr 549 of 774, perplexity: 100.946 speed: 2457 wps\n",
            "Itr 626 of 774, perplexity: 99.450 speed: 2457 wps\n",
            "Itr 703 of 774, perplexity: 98.680 speed: 2457 wps\n",
            "Epoch 5 : Train Perplexity: 98.403\n",
            "Epoch 5 : Valid Perplexity: 133.818\n",
            "Epoch 6 : Learning rate: 0.500\n",
            "Itr 10 of 774, perplexity: 108.627 speed: 2441 wps\n",
            "Itr 87 of 774, perplexity: 92.527 speed: 2475 wps\n",
            "Itr 164 of 774, perplexity: 90.751 speed: 2471 wps\n",
            "Itr 241 of 774, perplexity: 87.998 speed: 2473 wps\n",
            "Itr 318 of 774, perplexity: 88.171 speed: 2474 wps\n",
            "Itr 395 of 774, perplexity: 86.355 speed: 2472 wps\n",
            "Itr 472 of 774, perplexity: 85.519 speed: 2473 wps\n",
            "Itr 549 of 774, perplexity: 83.105 speed: 2472 wps\n",
            "Itr 626 of 774, perplexity: 81.468 speed: 2472 wps\n",
            "Itr 703 of 774, perplexity: 80.438 speed: 2472 wps\n",
            "Epoch 6 : Train Perplexity: 79.891\n",
            "Epoch 6 : Valid Perplexity: 126.074\n",
            "Epoch 7 : Learning rate: 0.250\n",
            "Itr 10 of 774, perplexity: 94.797 speed: 2428 wps\n",
            "Itr 87 of 774, perplexity: 81.804 speed: 2452 wps\n",
            "Itr 164 of 774, perplexity: 80.344 speed: 2451 wps\n",
            "Itr 241 of 774, perplexity: 77.827 speed: 2454 wps\n",
            "Itr 318 of 774, perplexity: 78.003 speed: 2458 wps\n",
            "Itr 395 of 774, perplexity: 76.296 speed: 2460 wps\n",
            "Itr 472 of 774, perplexity: 75.464 speed: 2463 wps\n",
            "Itr 549 of 774, perplexity: 73.188 speed: 2464 wps\n",
            "Itr 626 of 774, perplexity: 71.611 speed: 2466 wps\n",
            "Itr 703 of 774, perplexity: 70.569 speed: 2466 wps\n",
            "Epoch 7 : Train Perplexity: 69.966\n",
            "Epoch 7 : Valid Perplexity: 123.535\n",
            "Epoch 8 : Learning rate: 0.125\n",
            "Itr 10 of 774, perplexity: 87.048 speed: 2442 wps\n",
            "Itr 87 of 774, perplexity: 75.696 speed: 2461 wps\n",
            "Itr 164 of 774, perplexity: 74.460 speed: 2467 wps\n",
            "Itr 241 of 774, perplexity: 72.132 speed: 2470 wps\n",
            "Itr 318 of 774, perplexity: 72.369 speed: 2472 wps\n",
            "Itr 395 of 774, perplexity: 70.747 speed: 2471 wps\n",
            "Itr 472 of 774, perplexity: 69.952 speed: 2470 wps\n",
            "Itr 549 of 774, perplexity: 67.779 speed: 2469 wps\n",
            "Itr 626 of 774, perplexity: 66.250 speed: 2470 wps\n",
            "Itr 703 of 774, perplexity: 65.222 speed: 2470 wps\n",
            "Epoch 8 : Train Perplexity: 64.607\n",
            "Epoch 8 : Valid Perplexity: 122.644\n",
            "Epoch 9 : Learning rate: 0.062\n",
            "Itr 10 of 774, perplexity: 82.931 speed: 2447 wps\n",
            "Itr 87 of 774, perplexity: 72.248 speed: 2463 wps\n",
            "Itr 164 of 774, perplexity: 71.116 speed: 2461 wps\n",
            "Itr 241 of 774, perplexity: 68.928 speed: 2462 wps\n",
            "Itr 318 of 774, perplexity: 69.224 speed: 2464 wps\n",
            "Itr 395 of 774, perplexity: 67.672 speed: 2465 wps\n",
            "Itr 472 of 774, perplexity: 66.914 speed: 2466 wps\n",
            "Itr 549 of 774, perplexity: 64.816 speed: 2467 wps\n",
            "Itr 626 of 774, perplexity: 63.328 speed: 2467 wps\n",
            "Itr 703 of 774, perplexity: 62.322 speed: 2466 wps\n",
            "Epoch 9 : Train Perplexity: 61.712\n",
            "Epoch 9 : Valid Perplexity: 122.047\n",
            "Epoch 10 : Learning rate: 0.031\n",
            "Itr 10 of 774, perplexity: 80.788 speed: 2414 wps\n",
            "Itr 87 of 774, perplexity: 70.353 speed: 2456 wps\n",
            "Itr 164 of 774, perplexity: 69.281 speed: 2456 wps\n",
            "Itr 241 of 774, perplexity: 67.155 speed: 2455 wps\n",
            "Itr 318 of 774, perplexity: 67.478 speed: 2456 wps\n",
            "Itr 395 of 774, perplexity: 65.976 speed: 2454 wps\n",
            "Itr 472 of 774, perplexity: 65.244 speed: 2454 wps\n",
            "Itr 549 of 774, perplexity: 63.192 speed: 2455 wps\n",
            "Itr 626 of 774, perplexity: 61.730 speed: 2455 wps\n",
            "Itr 703 of 774, perplexity: 60.744 speed: 2455 wps\n",
            "Epoch 10 : Train Perplexity: 60.140\n",
            "Epoch 10 : Valid Perplexity: 121.562\n",
            "Epoch 11 : Learning rate: 0.016\n",
            "Itr 10 of 774, perplexity: 79.587 speed: 2417 wps\n",
            "Itr 87 of 774, perplexity: 69.326 speed: 2449 wps\n",
            "Itr 164 of 774, perplexity: 68.295 speed: 2449 wps\n",
            "Itr 241 of 774, perplexity: 66.194 speed: 2445 wps\n",
            "Itr 318 of 774, perplexity: 66.518 speed: 2448 wps\n",
            "Itr 395 of 774, perplexity: 65.043 speed: 2388 wps\n",
            "Itr 472 of 774, perplexity: 64.327 speed: 2396 wps\n",
            "Itr 549 of 774, perplexity: 62.303 speed: 2403 wps\n",
            "Itr 626 of 774, perplexity: 60.853 speed: 2400 wps\n",
            "Itr 703 of 774, perplexity: 59.877 speed: 2398 wps\n",
            "Epoch 11 : Train Perplexity: 59.276\n",
            "Epoch 11 : Valid Perplexity: 121.350\n",
            "Epoch 12 : Learning rate: 0.008\n",
            "Itr 10 of 774, perplexity: 78.919 speed: 2372 wps\n",
            "Itr 87 of 774, perplexity: 68.758 speed: 2401 wps\n",
            "Itr 164 of 774, perplexity: 67.764 speed: 2404 wps\n",
            "Itr 241 of 774, perplexity: 65.679 speed: 2404 wps\n",
            "Itr 318 of 774, perplexity: 66.000 speed: 2401 wps\n",
            "Itr 395 of 774, perplexity: 64.535 speed: 2399 wps\n",
            "Itr 472 of 774, perplexity: 63.825 speed: 2397 wps\n",
            "Itr 549 of 774, perplexity: 61.819 speed: 2396 wps\n",
            "Itr 626 of 774, perplexity: 60.375 speed: 2395 wps\n",
            "Itr 703 of 774, perplexity: 59.402 speed: 2396 wps\n",
            "Epoch 12 : Train Perplexity: 58.804\n",
            "Epoch 12 : Valid Perplexity: 121.239\n",
            "Epoch 13 : Learning rate: 0.004\n",
            "Itr 10 of 774, perplexity: 78.556 speed: 2359 wps\n",
            "Itr 87 of 774, perplexity: 68.441 speed: 2378 wps\n",
            "Itr 164 of 774, perplexity: 67.477 speed: 2381 wps\n",
            "Itr 241 of 774, perplexity: 65.411 speed: 2397 wps\n",
            "Itr 318 of 774, perplexity: 65.730 speed: 2410 wps\n",
            "Itr 395 of 774, perplexity: 64.267 speed: 2416 wps\n",
            "Itr 472 of 774, perplexity: 63.560 speed: 2419 wps\n",
            "Itr 549 of 774, perplexity: 61.561 speed: 2422 wps\n",
            "Itr 626 of 774, perplexity: 60.122 speed: 2422 wps\n",
            "Itr 703 of 774, perplexity: 59.151 speed: 2424 wps\n",
            "Epoch 13 : Train Perplexity: 58.553\n",
            "Epoch 13 : Valid Perplexity: 121.105\n",
            "Epoch 14 : Learning rate: 0.002\n",
            "Itr 10 of 774, perplexity: 78.356 speed: 2398 wps\n",
            "Itr 87 of 774, perplexity: 68.262 speed: 2436 wps\n",
            "Itr 164 of 774, perplexity: 67.318 speed: 2433 wps\n",
            "Itr 241 of 774, perplexity: 65.265 speed: 2434 wps\n",
            "Itr 318 of 774, perplexity: 65.588 speed: 2433 wps\n",
            "Itr 395 of 774, perplexity: 64.125 speed: 2434 wps\n",
            "Itr 472 of 774, perplexity: 63.419 speed: 2435 wps\n",
            "Itr 549 of 774, perplexity: 61.425 speed: 2436 wps\n",
            "Itr 626 of 774, perplexity: 59.987 speed: 2436 wps\n",
            "Itr 703 of 774, perplexity: 59.018 speed: 2436 wps\n",
            "Epoch 14 : Train Perplexity: 58.421\n",
            "Epoch 14 : Valid Perplexity: 120.964\n",
            "Epoch 15 : Learning rate: 0.001\n",
            "Itr 10 of 774, perplexity: 78.234 speed: 2407 wps\n",
            "Itr 87 of 774, perplexity: 68.154 speed: 2438 wps\n",
            "Itr 164 of 774, perplexity: 67.221 speed: 2438 wps\n",
            "Itr 241 of 774, perplexity: 65.178 speed: 2440 wps\n",
            "Itr 318 of 774, perplexity: 65.506 speed: 2439 wps\n",
            "Itr 395 of 774, perplexity: 64.045 speed: 2440 wps\n",
            "Itr 472 of 774, perplexity: 63.341 speed: 2440 wps\n",
            "Itr 549 of 774, perplexity: 61.350 speed: 2441 wps\n",
            "Itr 626 of 774, perplexity: 59.914 speed: 2442 wps\n",
            "Itr 703 of 774, perplexity: 58.945 speed: 2442 wps\n",
            "Epoch 15 : Train Perplexity: 58.350\n",
            "Epoch 15 : Valid Perplexity: 120.871\n",
            "Test Perplexity: 117.045\n"
          ],
          "name": "stdout"
        }
      ]
    },
    {
      "cell_type": "markdown",
      "metadata": {
        "button": false,
        "deletable": true,
        "new_sheet": false,
        "run_control": {
          "read_only": false
        },
        "id": "OkOuionpTlyG",
        "colab_type": "text"
      },
      "source": [
        "As you can see, the model's perplexity rating drops very quickly after a few iterations. As was elaborated before, <b>lower Perplexity means that the model is more certain about its prediction</b>. As such, we can be sure that this model is performing well!"
      ]
    },
    {
      "cell_type": "markdown",
      "metadata": {
        "button": false,
        "deletable": true,
        "new_sheet": false,
        "run_control": {
          "read_only": false
        },
        "id": "_h4P0LFOTlyG",
        "colab_type": "text"
      },
      "source": [
        "-------"
      ]
    },
    {
      "cell_type": "markdown",
      "metadata": {
        "button": false,
        "deletable": true,
        "new_sheet": false,
        "run_control": {
          "read_only": false
        },
        "id": "yiqiZJLYTlyG",
        "colab_type": "text"
      },
      "source": [
        "This is the end of the <b>Applying Recurrent Neural Networks to Text Processing</b> notebook. Hopefully you now have a better understanding of Recurrent Neural Networks and how to implement one utilizing TensorFlow. Thank you for reading this notebook, and good luck on your studies."
      ]
    },
    {
      "cell_type": "markdown",
      "metadata": {
        "button": false,
        "deletable": true,
        "new_sheet": false,
        "run_control": {
          "read_only": false
        },
        "id": "M2eojuaaTlyH",
        "colab_type": "text"
      },
      "source": [
        "## Want to learn more?\n",
        "\n",
        "Running deep learning programs usually needs a high performance platform. __PowerAI__ speeds up deep learning and AI. Built on IBM’s Power Systems, __PowerAI__ is a scalable software platform that accelerates deep learning and AI with blazing performance for individual users or enterprises. The __PowerAI__ platform supports popular machine learning libraries and dependencies including TensorFlow, Caffe, Torch, and Theano. You can use [PowerAI on IMB Cloud](https://cocl.us/ML0120EN_PAI).\n",
        "\n",
        "Also, you can use __Watson Studio__ to run these notebooks faster with bigger datasets.__Watson Studio__ is IBM’s leading cloud solution for data scientists, built by data scientists. With Jupyter notebooks, RStudio, Apache Spark and popular libraries pre-packaged in the cloud, __Watson Studio__ enables data scientists to collaborate on their projects without having to install anything. Join the fast-growing community of __Watson Studio__ users today with a free account at [Watson Studio](https://cocl.us/ML0120EN_DSX).This is the end of this lesson. Thank you for reading this notebook, and good luck on your studies."
      ]
    },
    {
      "cell_type": "markdown",
      "metadata": {
        "button": false,
        "deletable": true,
        "new_sheet": false,
        "run_control": {
          "read_only": false
        },
        "id": "dlWAioy6TlyH",
        "colab_type": "text"
      },
      "source": [
        "### Thanks for completing this lesson!\n",
        "\n",
        "Notebook created by <a href=\"https://br.linkedin.com/in/walter-gomes-de-amorim-junior-624726121\">Walter Gomes de Amorim Junior</a>, <a href = \"https://linkedin.com/in/saeedaghabozorgi\"> Saeed Aghabozorgi </a></h4>"
      ]
    },
    {
      "cell_type": "markdown",
      "metadata": {
        "button": false,
        "deletable": true,
        "new_sheet": false,
        "run_control": {
          "read_only": false
        },
        "id": "8F0Z7Q8ETlyI",
        "colab_type": "text"
      },
      "source": [
        "<hr>\n",
        "\n",
        "Copyright &copy; 2018 [Cognitive Class](https://cocl.us/DX0108EN_CC). This notebook and its source code are released under the terms of the [MIT License](https://bigdatauniversity.com/mit-license/)."
      ]
    }
  ]
}